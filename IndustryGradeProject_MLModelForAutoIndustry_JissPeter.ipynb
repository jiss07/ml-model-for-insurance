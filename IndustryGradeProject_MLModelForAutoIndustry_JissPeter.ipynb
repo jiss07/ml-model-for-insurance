{
 "cells": [
  {
   "cell_type": "markdown",
   "metadata": {
    "colab_type": "text",
    "id": "L85_bt-ebKDQ"
   },
   "source": [
    "**Aim of the Project**<br>\n",
    "The aim of the project is to build a Machine Learning\n",
    "Model to predict whether an owner will initiate an auto\n",
    "insurance claim in the next year.<br>\n",
    "**Use Cases**<br>\n",
    "The model shall mainly support the following use cases:<br>\n",
    "1. Conquering Market Share: Capture market share by lowering the prices of the premium\n",
    "for the customers, who are least likely to claim.<br>\n",
    "2. Risk Management: Charge the right premium from the customer, who is likely to claim\n",
    "insurance in the coming year<br>\n",
    "3. Smooth Processing: Reduce the complexity of pricing models. Most of the transactions\n",
    "are happening online with larger customer attributes (thanks to the internet and social\n",
    "media). Harness the power of huge data to build complex ML models<br>\n",
    "4. Increased Profits: As per industry estimate 1% reduction in the claim can boost profit by\n",
    "10%. So, through the ML model, we can identify and deny the insurance to the driver\n",
    "who will make a claim. Thus, ensuring reduced claim outgo and increased profit.<br>\n",
    "Part of the model development is to identify and prioritize the above use cases.<br>"
   ]
  },
  {
   "cell_type": "markdown",
   "metadata": {
    "colab_type": "text",
    "id": "RFH74Y1gJ3Jw"
   },
   "source": [
    "Printing current directory in Google colab and creating a subdirectory as /data/"
   ]
  },
  {
   "cell_type": "code",
   "execution_count": 0,
   "metadata": {
    "colab": {
     "base_uri": "https://localhost:8080/",
     "height": 51
    },
    "colab_type": "code",
    "id": "NGHRVP8Wbg3L",
    "outputId": "c2cbaac6-5850-4bfc-ec3d-f3d66fd0f5d8"
   },
   "outputs": [
    {
     "name": "stdout",
     "output_type": "stream",
     "text": [
      "Current Directory /content\n",
      "New Directory created as /content/data/\n"
     ]
    }
   ],
   "source": [
    "import os\n",
    "path=os.getcwd()\n",
    "print(\"Current Directory\",os.getcwd())\n",
    "newDir=path+'/data/'\n",
    "os.mkdir(newDir)\n",
    "print(\"New Directory created as /content/data/\")"
   ]
  },
  {
   "cell_type": "code",
   "execution_count": 0,
   "metadata": {
    "colab": {
     "base_uri": "https://localhost:8080/",
     "height": 34
    },
    "colab_type": "code",
    "id": "nd5E0ebij8ga",
    "outputId": "f7843aff-ba43-41ac-a5d9-0fa92cc4779f"
   },
   "outputs": [
    {
     "name": "stdout",
     "output_type": "stream",
     "text": [
      "New Directory created as /content/output/\n"
     ]
    }
   ],
   "source": [
    "outputDir=path+'/output/'\n",
    "os.mkdir(outputDir)\n",
    "print(\"New Directory created as /content/output/\")"
   ]
  },
  {
   "cell_type": "code",
   "execution_count": 0,
   "metadata": {
    "colab": {
     "base_uri": "https://localhost:8080/",
     "height": 34
    },
    "colab_type": "code",
    "id": "9pZLVb_22n1M",
    "outputId": "f1beea1a-2435-4d21-e24c-1e396ad10271"
   },
   "outputs": [
    {
     "name": "stdout",
     "output_type": "stream",
     "text": [
      "New Directory created as /content/trained_models/\n"
     ]
    }
   ],
   "source": [
    "trainedMdlDir=path+'/trained_models/'\n",
    "os.mkdir(trainedMdlDir)\n",
    "print(\"New Directory created as /content/trained_models/\")"
   ]
  },
  {
   "cell_type": "code",
   "execution_count": 59,
   "metadata": {
    "colab": {
     "base_uri": "https://localhost:8080/",
     "height": 68
    },
    "colab_type": "code",
    "id": "MQqZA1loJq3m",
    "outputId": "2b1787a4-f8a9-42a3-c699-dc1930e751d7"
   },
   "outputs": [
    {
     "name": "stdout",
     "output_type": "stream",
     "text": [
      "  % Total    % Received % Xferd  Average Speed   Time    Time     Time  Current\n",
      "                                 Dload  Upload   Total   Spent    Left  Speed\n",
      "\r",
      "  0     0    0     0    0     0      0      0 --:--:-- --:--:-- --:--:--     0\r",
      "100 96044  100 96044    0     0   455k      0 --:--:-- --:--:-- --:--:--  455k\n"
     ]
    }
   ],
   "source": [
    "! curl -0 https://www.georgeburry.com/images/Kaggle_competition_insurance-claims_files/newplot.png --output /content/data/newplot.png"
   ]
  },
  {
   "cell_type": "markdown",
   "metadata": {
    "colab_type": "text",
    "id": "PV0OMomVKBTz"
   },
   "source": [
    "Installing the python module scikit-plot as it was not available in colab"
   ]
  },
  {
   "cell_type": "code",
   "execution_count": 60,
   "metadata": {
    "colab": {
     "base_uri": "https://localhost:8080/",
     "height": 241
    },
    "colab_type": "code",
    "id": "B7cH2WBTCmWf",
    "outputId": "32c4fe84-d971-44c3-a4f8-6ddad4395456"
   },
   "outputs": [
    {
     "name": "stdout",
     "output_type": "stream",
     "text": [
      "Requirement already satisfied: scikit-plot in /usr/local/lib/python3.6/dist-packages (0.3.7)\n",
      "Requirement already satisfied: joblib>=0.10 in /usr/local/lib/python3.6/dist-packages (from scikit-plot) (0.14.1)\n",
      "Requirement already satisfied: scipy>=0.9 in /usr/local/lib/python3.6/dist-packages (from scikit-plot) (1.4.1)\n",
      "Requirement already satisfied: matplotlib>=1.4.0 in /usr/local/lib/python3.6/dist-packages (from scikit-plot) (3.2.0)\n",
      "Requirement already satisfied: scikit-learn>=0.18 in /usr/local/lib/python3.6/dist-packages (from scikit-plot) (0.22.2.post1)\n",
      "Requirement already satisfied: numpy>=1.13.3 in /usr/local/lib/python3.6/dist-packages (from scipy>=0.9->scikit-plot) (1.18.1)\n",
      "Requirement already satisfied: pyparsing!=2.0.4,!=2.1.2,!=2.1.6,>=2.0.1 in /usr/local/lib/python3.6/dist-packages (from matplotlib>=1.4.0->scikit-plot) (2.4.6)\n",
      "Requirement already satisfied: cycler>=0.10 in /usr/local/lib/python3.6/dist-packages (from matplotlib>=1.4.0->scikit-plot) (0.10.0)\n",
      "Requirement already satisfied: python-dateutil>=2.1 in /usr/local/lib/python3.6/dist-packages (from matplotlib>=1.4.0->scikit-plot) (2.8.1)\n",
      "Requirement already satisfied: kiwisolver>=1.0.1 in /usr/local/lib/python3.6/dist-packages (from matplotlib>=1.4.0->scikit-plot) (1.1.0)\n",
      "Requirement already satisfied: six in /usr/local/lib/python3.6/dist-packages (from cycler>=0.10->matplotlib>=1.4.0->scikit-plot) (1.12.0)\n",
      "Requirement already satisfied: setuptools in /usr/local/lib/python3.6/dist-packages (from kiwisolver>=1.0.1->matplotlib>=1.4.0->scikit-plot) (45.2.0)\n"
     ]
    }
   ],
   "source": [
    "pip install scikit-plot"
   ]
  },
  {
   "cell_type": "markdown",
   "metadata": {
    "colab_type": "text",
    "id": "gfNknQdo3kww"
   },
   "source": [
    "# Importing the dependencies \n",
    "\n",
    "We will be using numpy, matplotlib, keras, tensorflow,RandomForestClassifier etc packages in this exercise.\n",
    "Below impoart statements will import necessary python libraries as used in this project in various places"
   ]
  },
  {
   "cell_type": "code",
   "execution_count": 61,
   "metadata": {
    "colab": {
     "base_uri": "https://localhost:8080/",
     "height": 17
    },
    "colab_type": "code",
    "id": "mu1g_IW93own",
    "outputId": "9c631589-51e8-4d54-d9da-605b8b7b3150"
   },
   "outputs": [
    {
     "data": {
      "text/html": [
       "        <script type=\"text/javascript\">\n",
       "        window.PlotlyConfig = {MathJaxConfig: 'local'};\n",
       "        if (window.MathJax) {MathJax.Hub.Config({SVG: {font: \"STIX-Web\"}});}\n",
       "        if (typeof require !== 'undefined') {\n",
       "        require.undef(\"plotly\");\n",
       "        requirejs.config({\n",
       "            paths: {\n",
       "                'plotly': ['https://cdn.plot.ly/plotly-latest.min']\n",
       "            }\n",
       "        });\n",
       "        require(['plotly'], function(Plotly) {\n",
       "            window._Plotly = Plotly;\n",
       "        });\n",
       "        }\n",
       "        </script>\n",
       "        "
      ]
     },
     "metadata": {
      "tags": []
     },
     "output_type": "display_data"
    }
   ],
   "source": [
    "import pandas as pd\n",
    "import numpy as np\n",
    "import matplotlib.pyplot as plt\n",
    "\n",
    "import seaborn as sns\n",
    "\n",
    "from sklearn.ensemble import RandomForestClassifier\n",
    "\n",
    "from sklearn.externals import joblib\n",
    "\n",
    "import plotly.offline as py\n",
    "py.init_notebook_mode(connected=True)\n",
    "import plotly.graph_objs as go\n",
    "import plotly.tools as tls\n",
    "\n",
    "from scipy.stats import pointbiserialr\n",
    "from scipy.stats import chi2_contingency\n",
    "\n",
    "from sklearn.preprocessing import MinMaxScaler\n",
    "\n",
    "from sklearn.model_selection import train_test_split \n",
    "from sklearn.model_selection import KFold, GridSearchCV\n",
    "\n",
    "from sklearn.linear_model import LogisticRegression \n",
    "from sklearn.ensemble import RandomForestClassifier\n",
    "from xgboost import XGBClassifier\n",
    "\n",
    "from sklearn.metrics import classification_report\n",
    "\n",
    "import scikitplot as skplt"
   ]
  },
  {
   "cell_type": "markdown",
   "metadata": {
    "colab_type": "text",
    "id": "x-PvjehE3_jK"
   },
   "source": [
    "# Loading the train.csv file as provided in LMS and displaying a maximum of five decimal places for better clarity. \n",
    "\n",
    "Also the dataset can be downloaded from kaggle as well from below given url <br> https://www.kaggle.com/c/porto-seguro-safe-driver-prediction/data"
   ]
  },
  {
   "cell_type": "code",
   "execution_count": 62,
   "metadata": {
    "colab": {
     "base_uri": "https://localhost:8080/",
     "height": 224
    },
    "colab_type": "code",
    "id": "RXF0Wuqg4AzT",
    "outputId": "7a7f116d-465a-4643-b08c-20e689e4f6d0"
   },
   "outputs": [
    {
     "data": {
      "text/html": [
       "<div>\n",
       "<style scoped>\n",
       "    .dataframe tbody tr th:only-of-type {\n",
       "        vertical-align: middle;\n",
       "    }\n",
       "\n",
       "    .dataframe tbody tr th {\n",
       "        vertical-align: top;\n",
       "    }\n",
       "\n",
       "    .dataframe thead th {\n",
       "        text-align: right;\n",
       "    }\n",
       "</style>\n",
       "<table border=\"1\" class=\"dataframe\">\n",
       "  <thead>\n",
       "    <tr style=\"text-align: right;\">\n",
       "      <th></th>\n",
       "      <th>id</th>\n",
       "      <th>target</th>\n",
       "      <th>ps_ind_01</th>\n",
       "      <th>ps_ind_02_cat</th>\n",
       "      <th>ps_ind_03</th>\n",
       "      <th>ps_ind_04_cat</th>\n",
       "      <th>ps_ind_05_cat</th>\n",
       "      <th>ps_ind_06_bin</th>\n",
       "      <th>ps_ind_07_bin</th>\n",
       "      <th>ps_ind_08_bin</th>\n",
       "      <th>ps_ind_09_bin</th>\n",
       "      <th>ps_ind_10_bin</th>\n",
       "      <th>ps_ind_11_bin</th>\n",
       "      <th>ps_ind_12_bin</th>\n",
       "      <th>ps_ind_13_bin</th>\n",
       "      <th>ps_ind_14</th>\n",
       "      <th>ps_ind_15</th>\n",
       "      <th>ps_ind_16_bin</th>\n",
       "      <th>ps_ind_17_bin</th>\n",
       "      <th>ps_ind_18_bin</th>\n",
       "      <th>ps_reg_01</th>\n",
       "      <th>ps_reg_02</th>\n",
       "      <th>ps_reg_03</th>\n",
       "      <th>ps_car_01_cat</th>\n",
       "      <th>ps_car_02_cat</th>\n",
       "      <th>ps_car_03_cat</th>\n",
       "      <th>ps_car_04_cat</th>\n",
       "      <th>ps_car_05_cat</th>\n",
       "      <th>ps_car_06_cat</th>\n",
       "      <th>ps_car_07_cat</th>\n",
       "      <th>ps_car_08_cat</th>\n",
       "      <th>ps_car_09_cat</th>\n",
       "      <th>ps_car_10_cat</th>\n",
       "      <th>ps_car_11_cat</th>\n",
       "      <th>ps_car_11</th>\n",
       "      <th>ps_car_12</th>\n",
       "      <th>ps_car_13</th>\n",
       "      <th>ps_car_14</th>\n",
       "      <th>ps_car_15</th>\n",
       "      <th>ps_calc_01</th>\n",
       "      <th>ps_calc_02</th>\n",
       "      <th>ps_calc_03</th>\n",
       "      <th>ps_calc_04</th>\n",
       "      <th>ps_calc_05</th>\n",
       "      <th>ps_calc_06</th>\n",
       "      <th>ps_calc_07</th>\n",
       "      <th>ps_calc_08</th>\n",
       "      <th>ps_calc_09</th>\n",
       "      <th>ps_calc_10</th>\n",
       "      <th>ps_calc_11</th>\n",
       "      <th>ps_calc_12</th>\n",
       "      <th>ps_calc_13</th>\n",
       "      <th>ps_calc_14</th>\n",
       "      <th>ps_calc_15_bin</th>\n",
       "      <th>ps_calc_16_bin</th>\n",
       "      <th>ps_calc_17_bin</th>\n",
       "      <th>ps_calc_18_bin</th>\n",
       "      <th>ps_calc_19_bin</th>\n",
       "      <th>ps_calc_20_bin</th>\n",
       "    </tr>\n",
       "  </thead>\n",
       "  <tbody>\n",
       "    <tr>\n",
       "      <th>0</th>\n",
       "      <td>7</td>\n",
       "      <td>0</td>\n",
       "      <td>2</td>\n",
       "      <td>2</td>\n",
       "      <td>5</td>\n",
       "      <td>1</td>\n",
       "      <td>0</td>\n",
       "      <td>0</td>\n",
       "      <td>1</td>\n",
       "      <td>0</td>\n",
       "      <td>0</td>\n",
       "      <td>0</td>\n",
       "      <td>0</td>\n",
       "      <td>0</td>\n",
       "      <td>0</td>\n",
       "      <td>0</td>\n",
       "      <td>11</td>\n",
       "      <td>0</td>\n",
       "      <td>1</td>\n",
       "      <td>0</td>\n",
       "      <td>0.70000</td>\n",
       "      <td>0.20000</td>\n",
       "      <td>0.71807</td>\n",
       "      <td>10</td>\n",
       "      <td>1</td>\n",
       "      <td>-1</td>\n",
       "      <td>0</td>\n",
       "      <td>1</td>\n",
       "      <td>4</td>\n",
       "      <td>1</td>\n",
       "      <td>0</td>\n",
       "      <td>0</td>\n",
       "      <td>1</td>\n",
       "      <td>12</td>\n",
       "      <td>2</td>\n",
       "      <td>0.40000</td>\n",
       "      <td>0.88368</td>\n",
       "      <td>0.37081</td>\n",
       "      <td>3.60555</td>\n",
       "      <td>0.60000</td>\n",
       "      <td>0.50000</td>\n",
       "      <td>0.20000</td>\n",
       "      <td>3</td>\n",
       "      <td>1</td>\n",
       "      <td>10</td>\n",
       "      <td>1</td>\n",
       "      <td>10</td>\n",
       "      <td>1</td>\n",
       "      <td>5</td>\n",
       "      <td>9</td>\n",
       "      <td>1</td>\n",
       "      <td>5</td>\n",
       "      <td>8</td>\n",
       "      <td>0</td>\n",
       "      <td>1</td>\n",
       "      <td>1</td>\n",
       "      <td>0</td>\n",
       "      <td>0</td>\n",
       "      <td>1</td>\n",
       "    </tr>\n",
       "    <tr>\n",
       "      <th>1</th>\n",
       "      <td>9</td>\n",
       "      <td>0</td>\n",
       "      <td>1</td>\n",
       "      <td>1</td>\n",
       "      <td>7</td>\n",
       "      <td>0</td>\n",
       "      <td>0</td>\n",
       "      <td>0</td>\n",
       "      <td>0</td>\n",
       "      <td>1</td>\n",
       "      <td>0</td>\n",
       "      <td>0</td>\n",
       "      <td>0</td>\n",
       "      <td>0</td>\n",
       "      <td>0</td>\n",
       "      <td>0</td>\n",
       "      <td>3</td>\n",
       "      <td>0</td>\n",
       "      <td>0</td>\n",
       "      <td>1</td>\n",
       "      <td>0.80000</td>\n",
       "      <td>0.40000</td>\n",
       "      <td>0.76608</td>\n",
       "      <td>11</td>\n",
       "      <td>1</td>\n",
       "      <td>-1</td>\n",
       "      <td>0</td>\n",
       "      <td>-1</td>\n",
       "      <td>11</td>\n",
       "      <td>1</td>\n",
       "      <td>1</td>\n",
       "      <td>2</td>\n",
       "      <td>1</td>\n",
       "      <td>19</td>\n",
       "      <td>3</td>\n",
       "      <td>0.31623</td>\n",
       "      <td>0.61882</td>\n",
       "      <td>0.38872</td>\n",
       "      <td>2.44949</td>\n",
       "      <td>0.30000</td>\n",
       "      <td>0.10000</td>\n",
       "      <td>0.30000</td>\n",
       "      <td>2</td>\n",
       "      <td>1</td>\n",
       "      <td>9</td>\n",
       "      <td>5</td>\n",
       "      <td>8</td>\n",
       "      <td>1</td>\n",
       "      <td>7</td>\n",
       "      <td>3</td>\n",
       "      <td>1</td>\n",
       "      <td>1</td>\n",
       "      <td>9</td>\n",
       "      <td>0</td>\n",
       "      <td>1</td>\n",
       "      <td>1</td>\n",
       "      <td>0</td>\n",
       "      <td>1</td>\n",
       "      <td>0</td>\n",
       "    </tr>\n",
       "    <tr>\n",
       "      <th>2</th>\n",
       "      <td>13</td>\n",
       "      <td>0</td>\n",
       "      <td>5</td>\n",
       "      <td>4</td>\n",
       "      <td>9</td>\n",
       "      <td>1</td>\n",
       "      <td>0</td>\n",
       "      <td>0</td>\n",
       "      <td>0</td>\n",
       "      <td>1</td>\n",
       "      <td>0</td>\n",
       "      <td>0</td>\n",
       "      <td>0</td>\n",
       "      <td>0</td>\n",
       "      <td>0</td>\n",
       "      <td>0</td>\n",
       "      <td>12</td>\n",
       "      <td>1</td>\n",
       "      <td>0</td>\n",
       "      <td>0</td>\n",
       "      <td>0.00000</td>\n",
       "      <td>0.00000</td>\n",
       "      <td>-1.00000</td>\n",
       "      <td>7</td>\n",
       "      <td>1</td>\n",
       "      <td>-1</td>\n",
       "      <td>0</td>\n",
       "      <td>-1</td>\n",
       "      <td>14</td>\n",
       "      <td>1</td>\n",
       "      <td>1</td>\n",
       "      <td>2</td>\n",
       "      <td>1</td>\n",
       "      <td>60</td>\n",
       "      <td>1</td>\n",
       "      <td>0.31623</td>\n",
       "      <td>0.64159</td>\n",
       "      <td>0.34728</td>\n",
       "      <td>3.31662</td>\n",
       "      <td>0.50000</td>\n",
       "      <td>0.70000</td>\n",
       "      <td>0.10000</td>\n",
       "      <td>2</td>\n",
       "      <td>2</td>\n",
       "      <td>9</td>\n",
       "      <td>1</td>\n",
       "      <td>8</td>\n",
       "      <td>2</td>\n",
       "      <td>7</td>\n",
       "      <td>4</td>\n",
       "      <td>2</td>\n",
       "      <td>7</td>\n",
       "      <td>7</td>\n",
       "      <td>0</td>\n",
       "      <td>1</td>\n",
       "      <td>1</td>\n",
       "      <td>0</td>\n",
       "      <td>1</td>\n",
       "      <td>0</td>\n",
       "    </tr>\n",
       "    <tr>\n",
       "      <th>3</th>\n",
       "      <td>16</td>\n",
       "      <td>0</td>\n",
       "      <td>0</td>\n",
       "      <td>1</td>\n",
       "      <td>2</td>\n",
       "      <td>0</td>\n",
       "      <td>0</td>\n",
       "      <td>1</td>\n",
       "      <td>0</td>\n",
       "      <td>0</td>\n",
       "      <td>0</td>\n",
       "      <td>0</td>\n",
       "      <td>0</td>\n",
       "      <td>0</td>\n",
       "      <td>0</td>\n",
       "      <td>0</td>\n",
       "      <td>8</td>\n",
       "      <td>1</td>\n",
       "      <td>0</td>\n",
       "      <td>0</td>\n",
       "      <td>0.90000</td>\n",
       "      <td>0.20000</td>\n",
       "      <td>0.58095</td>\n",
       "      <td>7</td>\n",
       "      <td>1</td>\n",
       "      <td>0</td>\n",
       "      <td>0</td>\n",
       "      <td>1</td>\n",
       "      <td>11</td>\n",
       "      <td>1</td>\n",
       "      <td>1</td>\n",
       "      <td>3</td>\n",
       "      <td>1</td>\n",
       "      <td>104</td>\n",
       "      <td>1</td>\n",
       "      <td>0.37417</td>\n",
       "      <td>0.54295</td>\n",
       "      <td>0.29496</td>\n",
       "      <td>2.00000</td>\n",
       "      <td>0.60000</td>\n",
       "      <td>0.90000</td>\n",
       "      <td>0.10000</td>\n",
       "      <td>2</td>\n",
       "      <td>4</td>\n",
       "      <td>7</td>\n",
       "      <td>1</td>\n",
       "      <td>8</td>\n",
       "      <td>4</td>\n",
       "      <td>2</td>\n",
       "      <td>2</td>\n",
       "      <td>2</td>\n",
       "      <td>4</td>\n",
       "      <td>9</td>\n",
       "      <td>0</td>\n",
       "      <td>0</td>\n",
       "      <td>0</td>\n",
       "      <td>0</td>\n",
       "      <td>0</td>\n",
       "      <td>0</td>\n",
       "    </tr>\n",
       "    <tr>\n",
       "      <th>4</th>\n",
       "      <td>17</td>\n",
       "      <td>0</td>\n",
       "      <td>0</td>\n",
       "      <td>2</td>\n",
       "      <td>0</td>\n",
       "      <td>1</td>\n",
       "      <td>0</td>\n",
       "      <td>1</td>\n",
       "      <td>0</td>\n",
       "      <td>0</td>\n",
       "      <td>0</td>\n",
       "      <td>0</td>\n",
       "      <td>0</td>\n",
       "      <td>0</td>\n",
       "      <td>0</td>\n",
       "      <td>0</td>\n",
       "      <td>9</td>\n",
       "      <td>1</td>\n",
       "      <td>0</td>\n",
       "      <td>0</td>\n",
       "      <td>0.70000</td>\n",
       "      <td>0.60000</td>\n",
       "      <td>0.84076</td>\n",
       "      <td>11</td>\n",
       "      <td>1</td>\n",
       "      <td>-1</td>\n",
       "      <td>0</td>\n",
       "      <td>-1</td>\n",
       "      <td>14</td>\n",
       "      <td>1</td>\n",
       "      <td>1</td>\n",
       "      <td>2</td>\n",
       "      <td>1</td>\n",
       "      <td>82</td>\n",
       "      <td>3</td>\n",
       "      <td>0.31607</td>\n",
       "      <td>0.56583</td>\n",
       "      <td>0.36510</td>\n",
       "      <td>2.00000</td>\n",
       "      <td>0.40000</td>\n",
       "      <td>0.60000</td>\n",
       "      <td>0.00000</td>\n",
       "      <td>2</td>\n",
       "      <td>2</td>\n",
       "      <td>6</td>\n",
       "      <td>3</td>\n",
       "      <td>10</td>\n",
       "      <td>2</td>\n",
       "      <td>12</td>\n",
       "      <td>3</td>\n",
       "      <td>1</td>\n",
       "      <td>1</td>\n",
       "      <td>3</td>\n",
       "      <td>0</td>\n",
       "      <td>0</td>\n",
       "      <td>0</td>\n",
       "      <td>1</td>\n",
       "      <td>1</td>\n",
       "      <td>0</td>\n",
       "    </tr>\n",
       "  </tbody>\n",
       "</table>\n",
       "</div>"
      ],
      "text/plain": [
       "   id  target  ps_ind_01  ...  ps_calc_18_bin  ps_calc_19_bin  ps_calc_20_bin\n",
       "0   7       0          2  ...               0               0               1\n",
       "1   9       0          1  ...               0               1               0\n",
       "2  13       0          5  ...               0               1               0\n",
       "3  16       0          0  ...               0               0               0\n",
       "4  17       0          0  ...               1               1               0\n",
       "\n",
       "[5 rows x 59 columns]"
      ]
     },
     "execution_count": 62,
     "metadata": {
      "tags": []
     },
     "output_type": "execute_result"
    }
   ],
   "source": [
    "pd.options.display.float_format = '{:.5f}'.format\n",
    "df=pd.read_csv(\"/content/data/train.csv\")\n",
    "df.head()"
   ]
  },
  {
   "cell_type": "markdown",
   "metadata": {
    "colab_type": "text",
    "id": "eBhqcGna9tES"
   },
   "source": [
    "## Summary of Dataframe"
   ]
  },
  {
   "cell_type": "code",
   "execution_count": 63,
   "metadata": {
    "colab": {
     "base_uri": "https://localhost:8080/",
     "height": 317
    },
    "colab_type": "code",
    "id": "Ryblw1z2PvM3",
    "outputId": "95c20eb3-8356-42e3-def0-594bfc8ae585"
   },
   "outputs": [
    {
     "data": {
      "text/html": [
       "<div>\n",
       "<style scoped>\n",
       "    .dataframe tbody tr th:only-of-type {\n",
       "        vertical-align: middle;\n",
       "    }\n",
       "\n",
       "    .dataframe tbody tr th {\n",
       "        vertical-align: top;\n",
       "    }\n",
       "\n",
       "    .dataframe thead th {\n",
       "        text-align: right;\n",
       "    }\n",
       "</style>\n",
       "<table border=\"1\" class=\"dataframe\">\n",
       "  <thead>\n",
       "    <tr style=\"text-align: right;\">\n",
       "      <th></th>\n",
       "      <th>id</th>\n",
       "      <th>target</th>\n",
       "      <th>ps_ind_01</th>\n",
       "      <th>ps_ind_02_cat</th>\n",
       "      <th>ps_ind_03</th>\n",
       "      <th>ps_ind_04_cat</th>\n",
       "      <th>ps_ind_05_cat</th>\n",
       "      <th>ps_ind_06_bin</th>\n",
       "      <th>ps_ind_07_bin</th>\n",
       "      <th>ps_ind_08_bin</th>\n",
       "      <th>ps_ind_09_bin</th>\n",
       "      <th>ps_ind_10_bin</th>\n",
       "      <th>ps_ind_11_bin</th>\n",
       "      <th>ps_ind_12_bin</th>\n",
       "      <th>ps_ind_13_bin</th>\n",
       "      <th>ps_ind_14</th>\n",
       "      <th>ps_ind_15</th>\n",
       "      <th>ps_ind_16_bin</th>\n",
       "      <th>ps_ind_17_bin</th>\n",
       "      <th>ps_ind_18_bin</th>\n",
       "      <th>ps_reg_01</th>\n",
       "      <th>ps_reg_02</th>\n",
       "      <th>ps_reg_03</th>\n",
       "      <th>ps_car_01_cat</th>\n",
       "      <th>ps_car_02_cat</th>\n",
       "      <th>ps_car_03_cat</th>\n",
       "      <th>ps_car_04_cat</th>\n",
       "      <th>ps_car_05_cat</th>\n",
       "      <th>ps_car_06_cat</th>\n",
       "      <th>ps_car_07_cat</th>\n",
       "      <th>ps_car_08_cat</th>\n",
       "      <th>ps_car_09_cat</th>\n",
       "      <th>ps_car_10_cat</th>\n",
       "      <th>ps_car_11_cat</th>\n",
       "      <th>ps_car_11</th>\n",
       "      <th>ps_car_12</th>\n",
       "      <th>ps_car_13</th>\n",
       "      <th>ps_car_14</th>\n",
       "      <th>ps_car_15</th>\n",
       "      <th>ps_calc_01</th>\n",
       "      <th>ps_calc_02</th>\n",
       "      <th>ps_calc_03</th>\n",
       "      <th>ps_calc_04</th>\n",
       "      <th>ps_calc_05</th>\n",
       "      <th>ps_calc_06</th>\n",
       "      <th>ps_calc_07</th>\n",
       "      <th>ps_calc_08</th>\n",
       "      <th>ps_calc_09</th>\n",
       "      <th>ps_calc_10</th>\n",
       "      <th>ps_calc_11</th>\n",
       "      <th>ps_calc_12</th>\n",
       "      <th>ps_calc_13</th>\n",
       "      <th>ps_calc_14</th>\n",
       "      <th>ps_calc_15_bin</th>\n",
       "      <th>ps_calc_16_bin</th>\n",
       "      <th>ps_calc_17_bin</th>\n",
       "      <th>ps_calc_18_bin</th>\n",
       "      <th>ps_calc_19_bin</th>\n",
       "      <th>ps_calc_20_bin</th>\n",
       "    </tr>\n",
       "  </thead>\n",
       "  <tbody>\n",
       "    <tr>\n",
       "      <th>count</th>\n",
       "      <td>595212.00000</td>\n",
       "      <td>595212.00000</td>\n",
       "      <td>595212.00000</td>\n",
       "      <td>595212.00000</td>\n",
       "      <td>595212.00000</td>\n",
       "      <td>595212.00000</td>\n",
       "      <td>595212.00000</td>\n",
       "      <td>595212.00000</td>\n",
       "      <td>595212.00000</td>\n",
       "      <td>595212.00000</td>\n",
       "      <td>595212.00000</td>\n",
       "      <td>595212.00000</td>\n",
       "      <td>595212.00000</td>\n",
       "      <td>595212.00000</td>\n",
       "      <td>595212.00000</td>\n",
       "      <td>595212.00000</td>\n",
       "      <td>595212.00000</td>\n",
       "      <td>595212.00000</td>\n",
       "      <td>595212.00000</td>\n",
       "      <td>595212.00000</td>\n",
       "      <td>595212.00000</td>\n",
       "      <td>595212.00000</td>\n",
       "      <td>595212.00000</td>\n",
       "      <td>595212.00000</td>\n",
       "      <td>595212.00000</td>\n",
       "      <td>595212.00000</td>\n",
       "      <td>595212.00000</td>\n",
       "      <td>595212.00000</td>\n",
       "      <td>595212.00000</td>\n",
       "      <td>595212.00000</td>\n",
       "      <td>595212.00000</td>\n",
       "      <td>595212.00000</td>\n",
       "      <td>595212.00000</td>\n",
       "      <td>595212.00000</td>\n",
       "      <td>595212.00000</td>\n",
       "      <td>595212.00000</td>\n",
       "      <td>595212.00000</td>\n",
       "      <td>595212.00000</td>\n",
       "      <td>595212.00000</td>\n",
       "      <td>595212.00000</td>\n",
       "      <td>595212.00000</td>\n",
       "      <td>595212.00000</td>\n",
       "      <td>595212.00000</td>\n",
       "      <td>595212.00000</td>\n",
       "      <td>595212.00000</td>\n",
       "      <td>595212.00000</td>\n",
       "      <td>595212.00000</td>\n",
       "      <td>595212.00000</td>\n",
       "      <td>595212.00000</td>\n",
       "      <td>595212.00000</td>\n",
       "      <td>595212.00000</td>\n",
       "      <td>595212.00000</td>\n",
       "      <td>595212.00000</td>\n",
       "      <td>595212.00000</td>\n",
       "      <td>595212.00000</td>\n",
       "      <td>595212.00000</td>\n",
       "      <td>595212.00000</td>\n",
       "      <td>595212.00000</td>\n",
       "      <td>595212.00000</td>\n",
       "    </tr>\n",
       "    <tr>\n",
       "      <th>mean</th>\n",
       "      <td>743803.55843</td>\n",
       "      <td>0.03645</td>\n",
       "      <td>1.90038</td>\n",
       "      <td>1.35894</td>\n",
       "      <td>4.42332</td>\n",
       "      <td>0.41679</td>\n",
       "      <td>0.40519</td>\n",
       "      <td>0.39374</td>\n",
       "      <td>0.25703</td>\n",
       "      <td>0.16392</td>\n",
       "      <td>0.18530</td>\n",
       "      <td>0.00037</td>\n",
       "      <td>0.00169</td>\n",
       "      <td>0.00944</td>\n",
       "      <td>0.00095</td>\n",
       "      <td>0.01245</td>\n",
       "      <td>7.29992</td>\n",
       "      <td>0.66082</td>\n",
       "      <td>0.12108</td>\n",
       "      <td>0.15345</td>\n",
       "      <td>0.61099</td>\n",
       "      <td>0.43918</td>\n",
       "      <td>0.55110</td>\n",
       "      <td>8.29593</td>\n",
       "      <td>0.82995</td>\n",
       "      <td>-0.50490</td>\n",
       "      <td>0.72519</td>\n",
       "      <td>-0.15773</td>\n",
       "      <td>6.55534</td>\n",
       "      <td>0.91003</td>\n",
       "      <td>0.83208</td>\n",
       "      <td>1.32889</td>\n",
       "      <td>0.99214</td>\n",
       "      <td>62.21567</td>\n",
       "      <td>2.34607</td>\n",
       "      <td>0.37994</td>\n",
       "      <td>0.81326</td>\n",
       "      <td>0.27626</td>\n",
       "      <td>3.06590</td>\n",
       "      <td>0.44976</td>\n",
       "      <td>0.44959</td>\n",
       "      <td>0.44985</td>\n",
       "      <td>2.37208</td>\n",
       "      <td>1.88589</td>\n",
       "      <td>7.68945</td>\n",
       "      <td>3.00582</td>\n",
       "      <td>9.22590</td>\n",
       "      <td>2.33903</td>\n",
       "      <td>8.43359</td>\n",
       "      <td>5.44138</td>\n",
       "      <td>1.44192</td>\n",
       "      <td>2.87229</td>\n",
       "      <td>7.53903</td>\n",
       "      <td>0.12243</td>\n",
       "      <td>0.62784</td>\n",
       "      <td>0.55418</td>\n",
       "      <td>0.28718</td>\n",
       "      <td>0.34902</td>\n",
       "      <td>0.15332</td>\n",
       "    </tr>\n",
       "    <tr>\n",
       "      <th>std</th>\n",
       "      <td>429367.82043</td>\n",
       "      <td>0.18740</td>\n",
       "      <td>1.98379</td>\n",
       "      <td>0.66459</td>\n",
       "      <td>2.69990</td>\n",
       "      <td>0.49331</td>\n",
       "      <td>1.35064</td>\n",
       "      <td>0.48858</td>\n",
       "      <td>0.43700</td>\n",
       "      <td>0.37020</td>\n",
       "      <td>0.38854</td>\n",
       "      <td>0.01931</td>\n",
       "      <td>0.04110</td>\n",
       "      <td>0.09669</td>\n",
       "      <td>0.03077</td>\n",
       "      <td>0.12754</td>\n",
       "      <td>3.54604</td>\n",
       "      <td>0.47343</td>\n",
       "      <td>0.32622</td>\n",
       "      <td>0.36042</td>\n",
       "      <td>0.28764</td>\n",
       "      <td>0.40426</td>\n",
       "      <td>0.79351</td>\n",
       "      <td>2.50827</td>\n",
       "      <td>0.37568</td>\n",
       "      <td>0.78865</td>\n",
       "      <td>2.15346</td>\n",
       "      <td>0.84442</td>\n",
       "      <td>5.50144</td>\n",
       "      <td>0.34711</td>\n",
       "      <td>0.37380</td>\n",
       "      <td>0.97875</td>\n",
       "      <td>0.09162</td>\n",
       "      <td>33.01246</td>\n",
       "      <td>0.83255</td>\n",
       "      <td>0.05833</td>\n",
       "      <td>0.22459</td>\n",
       "      <td>0.35715</td>\n",
       "      <td>0.73137</td>\n",
       "      <td>0.28720</td>\n",
       "      <td>0.28689</td>\n",
       "      <td>0.28715</td>\n",
       "      <td>1.11722</td>\n",
       "      <td>1.13493</td>\n",
       "      <td>1.33431</td>\n",
       "      <td>1.41456</td>\n",
       "      <td>1.45967</td>\n",
       "      <td>1.24695</td>\n",
       "      <td>2.90460</td>\n",
       "      <td>2.33287</td>\n",
       "      <td>1.20296</td>\n",
       "      <td>1.69489</td>\n",
       "      <td>2.74665</td>\n",
       "      <td>0.32778</td>\n",
       "      <td>0.48338</td>\n",
       "      <td>0.49706</td>\n",
       "      <td>0.45245</td>\n",
       "      <td>0.47666</td>\n",
       "      <td>0.36029</td>\n",
       "    </tr>\n",
       "    <tr>\n",
       "      <th>min</th>\n",
       "      <td>7.00000</td>\n",
       "      <td>0.00000</td>\n",
       "      <td>0.00000</td>\n",
       "      <td>-1.00000</td>\n",
       "      <td>0.00000</td>\n",
       "      <td>-1.00000</td>\n",
       "      <td>-1.00000</td>\n",
       "      <td>0.00000</td>\n",
       "      <td>0.00000</td>\n",
       "      <td>0.00000</td>\n",
       "      <td>0.00000</td>\n",
       "      <td>0.00000</td>\n",
       "      <td>0.00000</td>\n",
       "      <td>0.00000</td>\n",
       "      <td>0.00000</td>\n",
       "      <td>0.00000</td>\n",
       "      <td>0.00000</td>\n",
       "      <td>0.00000</td>\n",
       "      <td>0.00000</td>\n",
       "      <td>0.00000</td>\n",
       "      <td>0.00000</td>\n",
       "      <td>0.00000</td>\n",
       "      <td>-1.00000</td>\n",
       "      <td>-1.00000</td>\n",
       "      <td>0.00000</td>\n",
       "      <td>-1.00000</td>\n",
       "      <td>0.00000</td>\n",
       "      <td>-1.00000</td>\n",
       "      <td>0.00000</td>\n",
       "      <td>-1.00000</td>\n",
       "      <td>0.00000</td>\n",
       "      <td>-1.00000</td>\n",
       "      <td>0.00000</td>\n",
       "      <td>1.00000</td>\n",
       "      <td>-1.00000</td>\n",
       "      <td>-1.00000</td>\n",
       "      <td>0.25062</td>\n",
       "      <td>-1.00000</td>\n",
       "      <td>0.00000</td>\n",
       "      <td>0.00000</td>\n",
       "      <td>0.00000</td>\n",
       "      <td>0.00000</td>\n",
       "      <td>0.00000</td>\n",
       "      <td>0.00000</td>\n",
       "      <td>0.00000</td>\n",
       "      <td>0.00000</td>\n",
       "      <td>2.00000</td>\n",
       "      <td>0.00000</td>\n",
       "      <td>0.00000</td>\n",
       "      <td>0.00000</td>\n",
       "      <td>0.00000</td>\n",
       "      <td>0.00000</td>\n",
       "      <td>0.00000</td>\n",
       "      <td>0.00000</td>\n",
       "      <td>0.00000</td>\n",
       "      <td>0.00000</td>\n",
       "      <td>0.00000</td>\n",
       "      <td>0.00000</td>\n",
       "      <td>0.00000</td>\n",
       "    </tr>\n",
       "    <tr>\n",
       "      <th>25%</th>\n",
       "      <td>371991.50000</td>\n",
       "      <td>0.00000</td>\n",
       "      <td>0.00000</td>\n",
       "      <td>1.00000</td>\n",
       "      <td>2.00000</td>\n",
       "      <td>0.00000</td>\n",
       "      <td>0.00000</td>\n",
       "      <td>0.00000</td>\n",
       "      <td>0.00000</td>\n",
       "      <td>0.00000</td>\n",
       "      <td>0.00000</td>\n",
       "      <td>0.00000</td>\n",
       "      <td>0.00000</td>\n",
       "      <td>0.00000</td>\n",
       "      <td>0.00000</td>\n",
       "      <td>0.00000</td>\n",
       "      <td>5.00000</td>\n",
       "      <td>0.00000</td>\n",
       "      <td>0.00000</td>\n",
       "      <td>0.00000</td>\n",
       "      <td>0.40000</td>\n",
       "      <td>0.20000</td>\n",
       "      <td>0.52500</td>\n",
       "      <td>7.00000</td>\n",
       "      <td>1.00000</td>\n",
       "      <td>-1.00000</td>\n",
       "      <td>0.00000</td>\n",
       "      <td>-1.00000</td>\n",
       "      <td>1.00000</td>\n",
       "      <td>1.00000</td>\n",
       "      <td>1.00000</td>\n",
       "      <td>0.00000</td>\n",
       "      <td>1.00000</td>\n",
       "      <td>32.00000</td>\n",
       "      <td>2.00000</td>\n",
       "      <td>0.31623</td>\n",
       "      <td>0.67087</td>\n",
       "      <td>0.33317</td>\n",
       "      <td>2.82843</td>\n",
       "      <td>0.20000</td>\n",
       "      <td>0.20000</td>\n",
       "      <td>0.20000</td>\n",
       "      <td>2.00000</td>\n",
       "      <td>1.00000</td>\n",
       "      <td>7.00000</td>\n",
       "      <td>2.00000</td>\n",
       "      <td>8.00000</td>\n",
       "      <td>1.00000</td>\n",
       "      <td>6.00000</td>\n",
       "      <td>4.00000</td>\n",
       "      <td>1.00000</td>\n",
       "      <td>2.00000</td>\n",
       "      <td>6.00000</td>\n",
       "      <td>0.00000</td>\n",
       "      <td>0.00000</td>\n",
       "      <td>0.00000</td>\n",
       "      <td>0.00000</td>\n",
       "      <td>0.00000</td>\n",
       "      <td>0.00000</td>\n",
       "    </tr>\n",
       "    <tr>\n",
       "      <th>50%</th>\n",
       "      <td>743547.50000</td>\n",
       "      <td>0.00000</td>\n",
       "      <td>1.00000</td>\n",
       "      <td>1.00000</td>\n",
       "      <td>4.00000</td>\n",
       "      <td>0.00000</td>\n",
       "      <td>0.00000</td>\n",
       "      <td>0.00000</td>\n",
       "      <td>0.00000</td>\n",
       "      <td>0.00000</td>\n",
       "      <td>0.00000</td>\n",
       "      <td>0.00000</td>\n",
       "      <td>0.00000</td>\n",
       "      <td>0.00000</td>\n",
       "      <td>0.00000</td>\n",
       "      <td>0.00000</td>\n",
       "      <td>7.00000</td>\n",
       "      <td>1.00000</td>\n",
       "      <td>0.00000</td>\n",
       "      <td>0.00000</td>\n",
       "      <td>0.70000</td>\n",
       "      <td>0.30000</td>\n",
       "      <td>0.72068</td>\n",
       "      <td>7.00000</td>\n",
       "      <td>1.00000</td>\n",
       "      <td>-1.00000</td>\n",
       "      <td>0.00000</td>\n",
       "      <td>0.00000</td>\n",
       "      <td>7.00000</td>\n",
       "      <td>1.00000</td>\n",
       "      <td>1.00000</td>\n",
       "      <td>2.00000</td>\n",
       "      <td>1.00000</td>\n",
       "      <td>65.00000</td>\n",
       "      <td>3.00000</td>\n",
       "      <td>0.37417</td>\n",
       "      <td>0.76581</td>\n",
       "      <td>0.36878</td>\n",
       "      <td>3.31662</td>\n",
       "      <td>0.50000</td>\n",
       "      <td>0.40000</td>\n",
       "      <td>0.50000</td>\n",
       "      <td>2.00000</td>\n",
       "      <td>2.00000</td>\n",
       "      <td>8.00000</td>\n",
       "      <td>3.00000</td>\n",
       "      <td>9.00000</td>\n",
       "      <td>2.00000</td>\n",
       "      <td>8.00000</td>\n",
       "      <td>5.00000</td>\n",
       "      <td>1.00000</td>\n",
       "      <td>3.00000</td>\n",
       "      <td>7.00000</td>\n",
       "      <td>0.00000</td>\n",
       "      <td>1.00000</td>\n",
       "      <td>1.00000</td>\n",
       "      <td>0.00000</td>\n",
       "      <td>0.00000</td>\n",
       "      <td>0.00000</td>\n",
       "    </tr>\n",
       "    <tr>\n",
       "      <th>75%</th>\n",
       "      <td>1115548.75000</td>\n",
       "      <td>0.00000</td>\n",
       "      <td>3.00000</td>\n",
       "      <td>2.00000</td>\n",
       "      <td>6.00000</td>\n",
       "      <td>1.00000</td>\n",
       "      <td>0.00000</td>\n",
       "      <td>1.00000</td>\n",
       "      <td>1.00000</td>\n",
       "      <td>0.00000</td>\n",
       "      <td>0.00000</td>\n",
       "      <td>0.00000</td>\n",
       "      <td>0.00000</td>\n",
       "      <td>0.00000</td>\n",
       "      <td>0.00000</td>\n",
       "      <td>0.00000</td>\n",
       "      <td>10.00000</td>\n",
       "      <td>1.00000</td>\n",
       "      <td>0.00000</td>\n",
       "      <td>0.00000</td>\n",
       "      <td>0.90000</td>\n",
       "      <td>0.60000</td>\n",
       "      <td>1.00000</td>\n",
       "      <td>11.00000</td>\n",
       "      <td>1.00000</td>\n",
       "      <td>0.00000</td>\n",
       "      <td>0.00000</td>\n",
       "      <td>1.00000</td>\n",
       "      <td>11.00000</td>\n",
       "      <td>1.00000</td>\n",
       "      <td>1.00000</td>\n",
       "      <td>2.00000</td>\n",
       "      <td>1.00000</td>\n",
       "      <td>93.00000</td>\n",
       "      <td>3.00000</td>\n",
       "      <td>0.40000</td>\n",
       "      <td>0.90619</td>\n",
       "      <td>0.39648</td>\n",
       "      <td>3.60555</td>\n",
       "      <td>0.70000</td>\n",
       "      <td>0.70000</td>\n",
       "      <td>0.70000</td>\n",
       "      <td>3.00000</td>\n",
       "      <td>3.00000</td>\n",
       "      <td>9.00000</td>\n",
       "      <td>4.00000</td>\n",
       "      <td>10.00000</td>\n",
       "      <td>3.00000</td>\n",
       "      <td>10.00000</td>\n",
       "      <td>7.00000</td>\n",
       "      <td>2.00000</td>\n",
       "      <td>4.00000</td>\n",
       "      <td>9.00000</td>\n",
       "      <td>0.00000</td>\n",
       "      <td>1.00000</td>\n",
       "      <td>1.00000</td>\n",
       "      <td>1.00000</td>\n",
       "      <td>1.00000</td>\n",
       "      <td>0.00000</td>\n",
       "    </tr>\n",
       "    <tr>\n",
       "      <th>max</th>\n",
       "      <td>1488027.00000</td>\n",
       "      <td>1.00000</td>\n",
       "      <td>7.00000</td>\n",
       "      <td>4.00000</td>\n",
       "      <td>11.00000</td>\n",
       "      <td>1.00000</td>\n",
       "      <td>6.00000</td>\n",
       "      <td>1.00000</td>\n",
       "      <td>1.00000</td>\n",
       "      <td>1.00000</td>\n",
       "      <td>1.00000</td>\n",
       "      <td>1.00000</td>\n",
       "      <td>1.00000</td>\n",
       "      <td>1.00000</td>\n",
       "      <td>1.00000</td>\n",
       "      <td>4.00000</td>\n",
       "      <td>13.00000</td>\n",
       "      <td>1.00000</td>\n",
       "      <td>1.00000</td>\n",
       "      <td>1.00000</td>\n",
       "      <td>0.90000</td>\n",
       "      <td>1.80000</td>\n",
       "      <td>4.03795</td>\n",
       "      <td>11.00000</td>\n",
       "      <td>1.00000</td>\n",
       "      <td>1.00000</td>\n",
       "      <td>9.00000</td>\n",
       "      <td>1.00000</td>\n",
       "      <td>17.00000</td>\n",
       "      <td>1.00000</td>\n",
       "      <td>1.00000</td>\n",
       "      <td>4.00000</td>\n",
       "      <td>2.00000</td>\n",
       "      <td>104.00000</td>\n",
       "      <td>3.00000</td>\n",
       "      <td>1.26491</td>\n",
       "      <td>3.72063</td>\n",
       "      <td>0.63640</td>\n",
       "      <td>3.74166</td>\n",
       "      <td>0.90000</td>\n",
       "      <td>0.90000</td>\n",
       "      <td>0.90000</td>\n",
       "      <td>5.00000</td>\n",
       "      <td>6.00000</td>\n",
       "      <td>10.00000</td>\n",
       "      <td>9.00000</td>\n",
       "      <td>12.00000</td>\n",
       "      <td>7.00000</td>\n",
       "      <td>25.00000</td>\n",
       "      <td>19.00000</td>\n",
       "      <td>10.00000</td>\n",
       "      <td>13.00000</td>\n",
       "      <td>23.00000</td>\n",
       "      <td>1.00000</td>\n",
       "      <td>1.00000</td>\n",
       "      <td>1.00000</td>\n",
       "      <td>1.00000</td>\n",
       "      <td>1.00000</td>\n",
       "      <td>1.00000</td>\n",
       "    </tr>\n",
       "  </tbody>\n",
       "</table>\n",
       "</div>"
      ],
      "text/plain": [
       "                 id       target  ...  ps_calc_19_bin  ps_calc_20_bin\n",
       "count  595212.00000 595212.00000  ...    595212.00000    595212.00000\n",
       "mean   743803.55843      0.03645  ...         0.34902         0.15332\n",
       "std    429367.82043      0.18740  ...         0.47666         0.36029\n",
       "min         7.00000      0.00000  ...         0.00000         0.00000\n",
       "25%    371991.50000      0.00000  ...         0.00000         0.00000\n",
       "50%    743547.50000      0.00000  ...         0.00000         0.00000\n",
       "75%   1115548.75000      0.00000  ...         1.00000         0.00000\n",
       "max   1488027.00000      1.00000  ...         1.00000         1.00000\n",
       "\n",
       "[8 rows x 59 columns]"
      ]
     },
     "execution_count": 63,
     "metadata": {
      "tags": []
     },
     "output_type": "execute_result"
    }
   ],
   "source": [
    "df.describe()"
   ]
  },
  {
   "cell_type": "markdown",
   "metadata": {
    "colab_type": "text",
    "id": "Lf30wsxZ92g_"
   },
   "source": [
    "## Printing Datatypes of dtaframe"
   ]
  },
  {
   "cell_type": "code",
   "execution_count": 64,
   "metadata": {
    "colab": {
     "base_uri": "https://localhost:8080/",
     "height": 1000
    },
    "colab_type": "code",
    "id": "LMwVkMlj9ncw",
    "outputId": "0b1bb4e8-eecd-4e96-855c-2ef28b689f60"
   },
   "outputs": [
    {
     "data": {
      "text/plain": [
       "id                  int64\n",
       "target              int64\n",
       "ps_ind_01           int64\n",
       "ps_ind_02_cat       int64\n",
       "ps_ind_03           int64\n",
       "ps_ind_04_cat       int64\n",
       "ps_ind_05_cat       int64\n",
       "ps_ind_06_bin       int64\n",
       "ps_ind_07_bin       int64\n",
       "ps_ind_08_bin       int64\n",
       "ps_ind_09_bin       int64\n",
       "ps_ind_10_bin       int64\n",
       "ps_ind_11_bin       int64\n",
       "ps_ind_12_bin       int64\n",
       "ps_ind_13_bin       int64\n",
       "ps_ind_14           int64\n",
       "ps_ind_15           int64\n",
       "ps_ind_16_bin       int64\n",
       "ps_ind_17_bin       int64\n",
       "ps_ind_18_bin       int64\n",
       "ps_reg_01         float64\n",
       "ps_reg_02         float64\n",
       "ps_reg_03         float64\n",
       "ps_car_01_cat       int64\n",
       "ps_car_02_cat       int64\n",
       "ps_car_03_cat       int64\n",
       "ps_car_04_cat       int64\n",
       "ps_car_05_cat       int64\n",
       "ps_car_06_cat       int64\n",
       "ps_car_07_cat       int64\n",
       "ps_car_08_cat       int64\n",
       "ps_car_09_cat       int64\n",
       "ps_car_10_cat       int64\n",
       "ps_car_11_cat       int64\n",
       "ps_car_11           int64\n",
       "ps_car_12         float64\n",
       "ps_car_13         float64\n",
       "ps_car_14         float64\n",
       "ps_car_15         float64\n",
       "ps_calc_01        float64\n",
       "ps_calc_02        float64\n",
       "ps_calc_03        float64\n",
       "ps_calc_04          int64\n",
       "ps_calc_05          int64\n",
       "ps_calc_06          int64\n",
       "ps_calc_07          int64\n",
       "ps_calc_08          int64\n",
       "ps_calc_09          int64\n",
       "ps_calc_10          int64\n",
       "ps_calc_11          int64\n",
       "ps_calc_12          int64\n",
       "ps_calc_13          int64\n",
       "ps_calc_14          int64\n",
       "ps_calc_15_bin      int64\n",
       "ps_calc_16_bin      int64\n",
       "ps_calc_17_bin      int64\n",
       "ps_calc_18_bin      int64\n",
       "ps_calc_19_bin      int64\n",
       "ps_calc_20_bin      int64\n",
       "dtype: object"
      ]
     },
     "execution_count": 64,
     "metadata": {
      "tags": []
     },
     "output_type": "execute_result"
    }
   ],
   "source": [
    "df.dtypes"
   ]
  },
  {
   "cell_type": "markdown",
   "metadata": {
    "colab_type": "text",
    "id": "vo8LZVfwfGhn"
   },
   "source": [
    "<strong>Printing Number of rows</strong>"
   ]
  },
  {
   "cell_type": "code",
   "execution_count": 65,
   "metadata": {
    "colab": {
     "base_uri": "https://localhost:8080/",
     "height": 34
    },
    "colab_type": "code",
    "id": "z9QN_HB_fIA6",
    "outputId": "08181d5a-00d0-484d-cbd4-66c64036e68a"
   },
   "outputs": [
    {
     "data": {
      "text/plain": [
       "595212"
      ]
     },
     "execution_count": 65,
     "metadata": {
      "tags": []
     },
     "output_type": "execute_result"
    }
   ],
   "source": [
    "rows = len(df)\n",
    "rows"
   ]
  },
  {
   "cell_type": "markdown",
   "metadata": {
    "colab_type": "text",
    "id": "USNF1Qx0763Q"
   },
   "source": [
    "# Target Value Inspection\n",
    "<br>\n",
    "Now lets try to visualize the target variable proportion and distribution as a pie chart. It clearly indecates that the value 0 is having major portion in the target variable as compared to the other value available as 1. This clearly indecates that there is some inbalances for the target variable for the given dataset which needs to be balanced."
   ]
  },
  {
   "cell_type": "code",
   "execution_count": 66,
   "metadata": {
    "colab": {
     "base_uri": "https://localhost:8080/",
     "height": 264
    },
    "colab_type": "code",
    "id": "4eYvR7l_4UMz",
    "outputId": "51c3f719-08b3-4d7d-d738-2ea4671ef3f1"
   },
   "outputs": [
    {
     "data": {
      "image/png": "[encoded data removed]",
      "text/plain": [
       "<Figure size 432x288 with 1 Axes>"
      ]
     },
     "metadata": {
      "tags": []
     },
     "output_type": "display_data"
    }
   ],
   "source": [
    "df['target'].value_counts().plot.pie(autopct='%1.1f%%')\n",
    "plt.title('Distribution of target variable')\n",
    "plt.show()"
   ]
  },
  {
   "cell_type": "markdown",
   "metadata": {
    "colab_type": "text",
    "id": "SAvgTIL7856x"
   },
   "source": [
    "# Handling imbalance cases\n",
    "<br>\n",
    "As a next step , we need to find out the  indices of the same per target  indices and will randomly select records with target=0 to get at the desired a priori .Below steps will reduce the imbalance in the given dataset which we have visualized in previous step"
   ]
  },
  {
   "cell_type": "code",
   "execution_count": 67,
   "metadata": {
    "colab": {
     "base_uri": "https://localhost:8080/",
     "height": 51
    },
    "colab_type": "code",
    "id": "dsuC4vWA88Ip",
    "outputId": "9ba4bde3-e41e-4e9b-cc6e-2d58c9afcb8a"
   },
   "outputs": [
    {
     "name": "stdout",
     "output_type": "stream",
     "text": [
      "Rate to undersample records with target=0 : 0.34043569687437886\n",
      "Number of records with target=0 after undersampling: 195246\n"
     ]
    }
   ],
   "source": [
    "train=df\n",
    "desired_apriori = 0.10\n",
    "\n",
    "# Get the indices per target value\n",
    "idx_0 = train[train.target==0].index\n",
    "idx_1 = train[train.target==1].index\n",
    "\n",
    "# Get original number of records per target value\n",
    "nb_0 = len(train.loc[idx_0])\n",
    "nb_1 = len(train.loc[idx_1])\n",
    "\n",
    "# Calculate the undersampling rate and resulting number of records with target=0\n",
    "undersampling_rate = ((1-desired_apriori)*nb_1)/(nb_0*desired_apriori)\n",
    "undersampled_nb_0 = int(undersampling_rate*nb_0)\n",
    "print('Rate to undersample records with target=0 : {}'.format(undersampling_rate))\n",
    "print('Number of records with target=0 after undersampling: {}'.format(undersampled_nb_0))\n",
    "\n",
    "# Randomly select records with target=0 to get at the desired a priori\n",
    "from sklearn.utils import shuffle\n",
    "\n",
    "undersampled_idx = shuffle(idx_0, random_state=37, n_samples=undersampled_nb_0)\n",
    "\n",
    "# Construct list with remaining indices\n",
    "idx_list = list(undersampled_idx) + list(idx_1)\n",
    "\n",
    "# Return undersample data frame\n",
    "train = train.loc[idx_list].reset_index(drop=True)\n"
   ]
  },
  {
   "cell_type": "markdown",
   "metadata": {
    "colab_type": "text",
    "id": "sCtziRRkREfS"
   },
   "source": [
    "Now Lets try to visualize the target variable distribution after completing above balancing steps. From below pie chart it is evident that the number of 1 and 0 has been balced to a better value."
   ]
  },
  {
   "cell_type": "code",
   "execution_count": 68,
   "metadata": {
    "colab": {
     "base_uri": "https://localhost:8080/",
     "height": 264
    },
    "colab_type": "code",
    "id": "DAvE0iRp9G8f",
    "outputId": "de6ba632-55c9-4521-b8f5-02cf41584531"
   },
   "outputs": [
    {
     "data": {
      "image/png": "[encoded data removed]",
      "text/plain": [
       "<Figure size 432x288 with 1 Axes>"
      ]
     },
     "metadata": {
      "tags": []
     },
     "output_type": "display_data"
    }
   ],
   "source": [
    "train['target'].value_counts().plot.pie(autopct='%1.1f%%')\n",
    "plt.title('Distribution of target variable after handling of imbalance variables')\n",
    "plt.show()"
   ]
  },
  {
   "cell_type": "markdown",
   "metadata": {
    "colab_type": "text",
    "id": "PusXf7bW9Nir"
   },
   "source": [
    "# Data Quality check\n",
    "<br> Now lets check for the data quality. We will try to pring the number of null values.Below result indecates that there is no null values in the given dataset  as the functio has returned False."
   ]
  },
  {
   "cell_type": "code",
   "execution_count": 69,
   "metadata": {
    "colab": {
     "base_uri": "https://localhost:8080/",
     "height": 34
    },
    "colab_type": "code",
    "id": "Zvr4vUTy9QmY",
    "outputId": "2ce251bf-22d7-4f3f-9e6a-c085f93fdf4b"
   },
   "outputs": [
    {
     "data": {
      "text/plain": [
       "False"
      ]
     },
     "execution_count": 69,
     "metadata": {
      "tags": []
     },
     "output_type": "execute_result"
    }
   ],
   "source": [
    "train.isnull().any().any()"
   ]
  },
  {
   "cell_type": "markdown",
   "metadata": {
    "colab_type": "text",
    "id": "jvh2J_JKR3lt"
   },
   "source": [
    "Now lets try to plot the missing numbers on each of the columns"
   ]
  },
  {
   "cell_type": "code",
   "execution_count": 70,
   "metadata": {
    "colab": {
     "base_uri": "https://localhost:8080/",
     "height": 667
    },
    "colab_type": "code",
    "id": "JZ_DKOaJ9aRF",
    "outputId": "57f0a7f5-0bef-4a5e-c2ac-3de83b0dc396"
   },
   "outputs": [
    {
     "data": {
      "text/plain": [
       "<matplotlib.axes._subplots.AxesSubplot at 0x7f38c24d99b0>"
      ]
     },
     "execution_count": 70,
     "metadata": {
      "tags": []
     },
     "output_type": "execute_result"
    },
    {
     "data": {
      "image/png": "[encoded data removed]",
      "text/plain": [
       "<Figure size 1152x648 with 2 Axes>"
      ]
     },
     "metadata": {
      "tags": []
     },
     "output_type": "display_data"
    }
   ],
   "source": [
    "train_check_null = train\n",
    "train_check_null = train_check_null.replace(-1,np.NaN)\n",
    "\n",
    "import missingno as msno\n",
    "msno.matrix(train_check_null.iloc[:,4:35],figsize=(16,9),color=(0.3,0.1,0.2))"
   ]
  },
  {
   "cell_type": "markdown",
   "metadata": {
    "colab_type": "text",
    "id": "pM9Vg6BjSBEA"
   },
   "source": [
    "Also we will list out the column names which is having missing values."
   ]
  },
  {
   "cell_type": "code",
   "execution_count": 71,
   "metadata": {
    "colab": {
     "base_uri": "https://localhost:8080/",
     "height": 204
    },
    "colab_type": "code",
    "id": "AwQCEr0R9iqd",
    "outputId": "19c49524-3531-4654-8c45-ce327ed5da9d"
   },
   "outputs": [
    {
     "name": "stdout",
     "output_type": "stream",
     "text": [
      "col : ps_ind_02_cat  , Nan records :    103, Nan ratio : 0.047\n",
      "col : ps_ind_04_cat  , Nan records :     51, Nan ratio : 0.024\n",
      "col : ps_ind_05_cat  , Nan records :   2256, Nan ratio : 1.040\n",
      "col : ps_reg_03      , Nan records :  38580, Nan ratio : 17.784\n",
      "col : ps_car_01_cat  , Nan records :     62, Nan ratio : 0.029\n",
      "col : ps_car_03_cat  , Nan records : 148367, Nan ratio : 68.391\n",
      "col : ps_car_05_cat  , Nan records :  96026, Nan ratio : 44.264\n",
      "col : ps_car_07_cat  , Nan records :   4431, Nan ratio : 2.043\n",
      "col : ps_car_09_cat  , Nan records :    230, Nan ratio : 0.106\n",
      "col : ps_car_11      , Nan records :      1, Nan ratio : 0.000\n",
      "col : ps_car_14      , Nan records :  15726, Nan ratio : 7.249\n"
     ]
    }
   ],
   "source": [
    "missing_col = []\n",
    "for c in train_check_null.columns:\n",
    "    if train_check_null[c].isnull().sum() > 0:\n",
    "        missing_col.append(c)\n",
    "        print('col : {:<15}, Nan records : {:>6}, Nan ratio : {:.3f}'.format(c, train_check_null[c].isnull().sum(), 100*(train_check_null[c].isnull().sum()/train_check_null[c].shape[0])))"
   ]
  },
  {
   "cell_type": "markdown",
   "metadata": {
    "colab_type": "text",
    "id": "D9aUHQg84_Qb"
   },
   "source": [
    "**Seperating features and printing the initial inferences on various featurs and cetegorze as Numeric,Binary & Categirycal**<br>\n",
    "The dataset includes numerical, categorical and binary features. The numerical features consist of ordinal and float values. Each feature type needs to be treated separately, so first of all we can create three lists of columns for the three feature types."
   ]
  },
  {
   "cell_type": "code",
   "execution_count": 72,
   "metadata": {
    "colab": {
     "base_uri": "https://localhost:8080/",
     "height": 190
    },
    "colab_type": "code",
    "id": "es1W6X795CZm",
    "outputId": "a5d88653-7dd9-45fd-d147-04f305ff9bed"
   },
   "outputs": [
    {
     "name": "stdout",
     "output_type": "stream",
     "text": [
      "--- Numerical features --- :  \n",
      " ['ps_ind_01', 'ps_ind_03', 'ps_ind_14', 'ps_ind_15', 'ps_reg_01', 'ps_reg_02', 'ps_reg_03', 'ps_car_11', 'ps_car_12', 'ps_car_13', 'ps_car_14', 'ps_car_15', 'ps_calc_01', 'ps_calc_02', 'ps_calc_03', 'ps_calc_04', 'ps_calc_05', 'ps_calc_06', 'ps_calc_07', 'ps_calc_08', 'ps_calc_09', 'ps_calc_10', 'ps_calc_11', 'ps_calc_12', 'ps_calc_13', 'ps_calc_14'] \n",
      "\n",
      "--- Categorical features --- :  \n",
      " ['ps_ind_02_cat', 'ps_ind_04_cat', 'ps_ind_05_cat', 'ps_car_01_cat', 'ps_car_02_cat', 'ps_car_03_cat', 'ps_car_04_cat', 'ps_car_05_cat', 'ps_car_06_cat', 'ps_car_07_cat', 'ps_car_08_cat', 'ps_car_09_cat', 'ps_car_10_cat', 'ps_car_11_cat'] \n",
      "\n",
      "--- Binary features --- :  \n",
      " ['ps_ind_06_bin', 'ps_ind_07_bin', 'ps_ind_08_bin', 'ps_ind_09_bin', 'ps_ind_10_bin', 'ps_ind_11_bin', 'ps_ind_12_bin', 'ps_ind_13_bin', 'ps_ind_16_bin', 'ps_ind_17_bin', 'ps_ind_18_bin', 'ps_calc_15_bin', 'ps_calc_16_bin', 'ps_calc_17_bin', 'ps_calc_18_bin', 'ps_calc_19_bin', 'ps_calc_20_bin'] \n",
      "\n"
     ]
    }
   ],
   "source": [
    "# separate col names into categories\n",
    "cols = df.columns\n",
    "num_feats, cat_feats, bin_feats = [], [], []\n",
    "\n",
    "for col in cols:\n",
    "    if col == 'id' or col == 'target':\n",
    "        pass\n",
    "    elif '_cat' in col:\n",
    "        cat_feats.append(col)\n",
    "    elif '_bin' in col:\n",
    "        bin_feats.append(col)\n",
    "    else:\n",
    "        num_feats.append(col)\n",
    "        \n",
    "print('--- Numerical features --- : ', '\\n', num_feats, '\\n')\n",
    "print('--- Categorical features --- : ', '\\n', cat_feats, '\\n')\n",
    "print('--- Binary features --- : ', '\\n', bin_feats, '\\n')"
   ]
  },
  {
   "cell_type": "markdown",
   "metadata": {
    "colab_type": "text",
    "id": "mDFOVZJZ5TJn"
   },
   "source": [
    "**Data cleaning and Preprocessing**<br>\n",
    "The next step is to check how many missing values there are for each feature type.Eliminating the features where more than one half of the values are missing."
   ]
  },
  {
   "cell_type": "code",
   "execution_count": 0,
   "metadata": {
    "colab": {},
    "colab_type": "code",
    "id": "QCTCuUtv5Vt6"
   },
   "outputs": [],
   "source": [
    "# Although it uses more memory, I prefer to create a new copy of the dataframe for each section\n",
    "df_cleaned = df.copy()\n",
    "\n",
    "# I will also create copies for the feature lists\n",
    "num_feats_cleaned = num_feats.copy()\n",
    "cat_feats_cleaned = cat_feats.copy()\n",
    "bin_feats_cleaned = bin_feats.copy()"
   ]
  },
  {
   "cell_type": "markdown",
   "metadata": {
    "colab_type": "text",
    "id": "ceCqEKJu5flE"
   },
   "source": [
    "**Numerical features**<br>\n",
    "Let's check for missing values (-1) in the numerical feature columns."
   ]
  },
  {
   "cell_type": "code",
   "execution_count": 74,
   "metadata": {
    "colab": {
     "base_uri": "https://localhost:8080/",
     "height": 34
    },
    "colab_type": "code",
    "id": "DIp62_Nn5iZw",
    "outputId": "08b0a775-f131-4c68-a2be-6198151858e6"
   },
   "outputs": [
    {
     "name": "stdout",
     "output_type": "stream",
     "text": [
      "[]\n"
     ]
    }
   ],
   "source": [
    "# I would like to eliminate any columns that consist of more than one half missing values (-1)\n",
    "num_many_missing = df_cleaned[num_feats_cleaned][df == -1].count() / len(df) > 0.50 # more than 50% missing values\n",
    "num_many_missing = num_many_missing.index[num_many_missing == True].tolist()\n",
    "print(num_many_missing)"
   ]
  },
  {
   "cell_type": "markdown",
   "metadata": {
    "colab_type": "text",
    "id": "VgqPBxQW5qzh"
   },
   "source": [
    "No columns were returned. We can also have a look at exactly how many are missing in the applicable columns."
   ]
  },
  {
   "cell_type": "code",
   "execution_count": 75,
   "metadata": {
    "colab": {
     "base_uri": "https://localhost:8080/",
     "height": 102
    },
    "colab_type": "code",
    "id": "2S6Tuv_l5sOj",
    "outputId": "f84e4e40-68fa-4615-db3e-2c9ea30b022a"
   },
   "outputs": [
    {
     "name": "stdout",
     "output_type": "stream",
     "text": [
      "Column   Missing count   Missing ratio\n",
      "ps_reg_03    107772    0.181\n",
      "ps_car_11    5    0.000\n",
      "ps_car_12    1    0.000\n",
      "ps_car_14    42620    0.072\n"
     ]
    }
   ],
   "source": [
    "counts = df_cleaned[num_feats_cleaned][df == -1].count()\n",
    "cols_with_missing = counts[counts.values > 0]\n",
    "print('Column  ', 'Missing count  ', 'Missing ratio')\n",
    "for col, count in zip(cols_with_missing.index, cols_with_missing.values):\n",
    "    print(col, '  ', count, '  ', '{:.3f}'.format(count / len(df)))"
   ]
  },
  {
   "cell_type": "markdown",
   "metadata": {
    "colab_type": "text",
    "id": "u_xGf5Hg53Fi"
   },
   "source": [
    "We can substitute the missing values with the applicable column mean. This will limit their impact on the results."
   ]
  },
  {
   "cell_type": "code",
   "execution_count": 76,
   "metadata": {
    "colab": {
     "base_uri": "https://localhost:8080/",
     "height": 292
    },
    "colab_type": "code",
    "id": "Q9PVWznd537k",
    "outputId": "6bb8efd6-f785-48df-eded-35410a624edb"
   },
   "outputs": [
    {
     "name": "stderr",
     "output_type": "stream",
     "text": [
      "/usr/local/lib/python3.6/dist-packages/ipykernel_launcher.py:2: SettingWithCopyWarning:\n",
      "\n",
      "\n",
      "A value is trying to be set on a copy of a slice from a DataFrame\n",
      "\n",
      "See the caveats in the documentation: http://pandas.pydata.org/pandas-docs/stable/user_guide/indexing.html#returning-a-view-versus-a-copy\n",
      "\n",
      "/usr/local/lib/python3.6/dist-packages/ipykernel_launcher.py:2: SettingWithCopyWarning:\n",
      "\n",
      "\n",
      "A value is trying to be set on a copy of a slice from a DataFrame\n",
      "\n",
      "See the caveats in the documentation: http://pandas.pydata.org/pandas-docs/stable/user_guide/indexing.html#returning-a-view-versus-a-copy\n",
      "\n"
     ]
    },
    {
     "data": {
      "text/plain": [
       "0"
      ]
     },
     "execution_count": 76,
     "metadata": {
      "tags": []
     },
     "output_type": "execute_result"
    }
   ],
   "source": [
    "# The few missing values that remain will be substituted with the column mean\n",
    "for col in num_feats_cleaned:\n",
    "    df_cleaned[col][df_cleaned[col] == -1] = df_cleaned[col].mean()\n",
    "# Check that no missing values remain\n",
    "(df_cleaned[num_feats_cleaned] == -1).sum().sum()   # sums instances of true for each column and then sums across columns"
   ]
  },
  {
   "cell_type": "markdown",
   "metadata": {
    "colab_type": "text",
    "id": "UTbStgEy6Gjd"
   },
   "source": [
    "We can be satisfied that no missing values remain as the above step has returned 0 at the end<br><br>\n",
    "\n",
    "**Categorical features**<br>\n",
    "Eliminating any columns that consist of more than one-half missing values (-1).<br>If features contain a relatively small proportion of missing values, these values can be converted to dummy variables and may be a useful part of the analysis."
   ]
  },
  {
   "cell_type": "code",
   "execution_count": 77,
   "metadata": {
    "colab": {
     "base_uri": "https://localhost:8080/",
     "height": 34
    },
    "colab_type": "code",
    "id": "4sok6SfT6O70",
    "outputId": "00ff9e7e-9883-4b47-f2e2-c6025aac5c44"
   },
   "outputs": [
    {
     "name": "stdout",
     "output_type": "stream",
     "text": [
      "['ps_car_03_cat']\n"
     ]
    }
   ],
   "source": [
    "cat_many_missing = df_cleaned[cat_feats_cleaned][df == -1].count() / len(df) > 0.5\n",
    "cat_many_missing = cat_many_missing.index[cat_many_missing == True].tolist()\n",
    "print(cat_many_missing)"
   ]
  },
  {
   "cell_type": "markdown",
   "metadata": {
    "colab_type": "text",
    "id": "l1iKJ6hWHTGp"
   },
   "source": [
    "Only one column is returned (‘ps_car_03_cat’)."
   ]
  },
  {
   "cell_type": "markdown",
   "metadata": {
    "colab_type": "text",
    "id": "rfjM-csALiQH"
   },
   "source": [
    "Cross verifying on the features on which it is having missing valuesin the applicable columns"
   ]
  },
  {
   "cell_type": "code",
   "execution_count": 78,
   "metadata": {
    "colab": {
     "base_uri": "https://localhost:8080/",
     "height": 170
    },
    "colab_type": "code",
    "id": "bkjuZxAy6cNL",
    "outputId": "2b2ab8ef-3581-4fda-ef1d-bd2a86abd14a"
   },
   "outputs": [
    {
     "name": "stdout",
     "output_type": "stream",
     "text": [
      "Column   Missing count   Missing ratio\n",
      "ps_ind_02_cat    216    0.000\n",
      "ps_ind_04_cat    83    0.000\n",
      "ps_ind_05_cat    5809    0.010\n",
      "ps_car_01_cat    107    0.000\n",
      "ps_car_03_cat    411231    0.691\n",
      "ps_car_05_cat    266551    0.448\n",
      "ps_car_07_cat    11489    0.019\n",
      "ps_car_09_cat    569    0.001\n"
     ]
    }
   ],
   "source": [
    "counts = df_cleaned[cat_feats_cleaned][df == -1].count()\n",
    "cols_with_missing = counts[counts.values > 0]\n",
    "print('Column  ', 'Missing count  ', 'Missing ratio')\n",
    "for col, count in zip(cols_with_missing.index, cols_with_missing.values):\n",
    "    print(col, '  ', count, '  ', '{:.3f}'.format(count / len(df)))"
   ]
  },
  {
   "cell_type": "markdown",
   "metadata": {
    "colab_type": "text",
    "id": "4AFf9uZN6hmH"
   },
   "source": [
    "Removes the columns that we have identified in above step"
   ]
  },
  {
   "cell_type": "code",
   "execution_count": 0,
   "metadata": {
    "colab": {},
    "colab_type": "code",
    "id": "tmjmjYCK6iWS"
   },
   "outputs": [],
   "source": [
    "df_cleaned.drop(columns=cat_many_missing, inplace=True)\n",
    "# The cat_feats list needs to be updated"
   ]
  },
  {
   "cell_type": "code",
   "execution_count": 0,
   "metadata": {
    "colab": {},
    "colab_type": "code",
    "id": "rqtKA8dS6xK4"
   },
   "outputs": [],
   "source": [
    "for i in cat_many_missing: cat_feats_cleaned.remove(i)"
   ]
  },
  {
   "cell_type": "markdown",
   "metadata": {
    "colab_type": "text",
    "id": "6w-jR1Hx61-H"
   },
   "source": [
    "Remaing missing values will be converted to dummy variables during the feature engineering stage.<br><br>\n",
    "\n",
    "**Binary features**<br>\n",
    "Let's now check for missing values among the binary features."
   ]
  },
  {
   "cell_type": "code",
   "execution_count": 81,
   "metadata": {
    "colab": {
     "base_uri": "https://localhost:8080/",
     "height": 34
    },
    "colab_type": "code",
    "id": "6YzOxlNK66Ig",
    "outputId": "e27d5219-fbee-48aa-abed-a01fb1cc89dd"
   },
   "outputs": [
    {
     "name": "stdout",
     "output_type": "stream",
     "text": [
      "[]\n"
     ]
    }
   ],
   "source": [
    "bin_many_missing = df_cleaned[bin_feats_cleaned][df == -1].count() / len(df) > 0.5\n",
    "bin_many_missing = bin_many_missing.index[bin_many_missing == True].tolist()\n",
    "print(bin_many_missing)"
   ]
  },
  {
   "cell_type": "markdown",
   "metadata": {
    "colab_type": "text",
    "id": "qFXnVJlsHo0x"
   },
   "source": [
    "No columns were returned where more than half of there values missing. Let’s just make sure that no values at all are missing for the binary features."
   ]
  },
  {
   "cell_type": "markdown",
   "metadata": {
    "colab_type": "text",
    "id": "aEiepk5_7CD0"
   },
   "source": [
    "Ensuring that no features with more than half of there values missing. Ensure that no values at all are missing for the binary features."
   ]
  },
  {
   "cell_type": "code",
   "execution_count": 82,
   "metadata": {
    "colab": {
     "base_uri": "https://localhost:8080/",
     "height": 34
    },
    "colab_type": "code",
    "id": "UswVRhd17ESZ",
    "outputId": "318a9975-a330-4f37-b818-c5251dba8180"
   },
   "outputs": [
    {
     "data": {
      "text/plain": [
       "Series([], dtype: int64)"
      ]
     },
     "execution_count": 82,
     "metadata": {
      "tags": []
     },
     "output_type": "execute_result"
    }
   ],
   "source": [
    "# Check for missing values, in case any exist\n",
    "counts = df_cleaned[bin_feats_cleaned][df == -1].count()\n",
    "cols_with_missing = counts[counts.values > 0]\n",
    "cols_with_missing"
   ]
  },
  {
   "cell_type": "markdown",
   "metadata": {
    "colab_type": "text",
    "id": "s-a83yqNHszi"
   },
   "source": [
    "No more missing values"
   ]
  },
  {
   "cell_type": "markdown",
   "metadata": {
    "colab_type": "text",
    "id": "rzzz0iQh7MpO"
   },
   "source": [
    "**Exploratory data analysis(EDA)**<br>\n",
    "In this section, we will first explore the correlation between numerical features and then will explore the correlation between each feature and the target variable to gain insight into feature importance.<br><br>\n",
    "Below given are the steps taken<br>\n",
    "Analyze the datasets to summarize their main\n",
    "characteristics (with visual methods). <br>A statistical\n",
    "model can be used, primarily EDA can be used to\n",
    "see what the data can tell us beyond the formal\n",
    "modeling or hypothesis testing task.<br>\n",
    "Following tasks can be performed as a part of EDA:<br>\n",
    "o Scaling/Normalization<br>\n",
    "o Fill the missing values<br>\n",
    "o Feature selection & engineering<br>\n",
    "\n",
    "Numerical features of float type"
   ]
  },
  {
   "cell_type": "code",
   "execution_count": 83,
   "metadata": {
    "colab": {
     "base_uri": "https://localhost:8080/",
     "height": 690
    },
    "colab_type": "code",
    "id": "9jdqPArN7Pe0",
    "outputId": "506f99c1-6e44-4847-8307-df4f23b1d5a8"
   },
   "outputs": [
    {
     "data": {
      "text/plain": [
       "<matplotlib.axes._subplots.AxesSubplot at 0x7f38bf1569e8>"
      ]
     },
     "execution_count": 83,
     "metadata": {
      "tags": []
     },
     "output_type": "execute_result"
    },
    {
     "data": {
      "image/png": "[encoded data removed]",
      "text/plain": [
       "<Figure size 1080x720 with 2 Axes>"
      ]
     },
     "metadata": {
      "tags": []
     },
     "output_type": "display_data"
    }
   ],
   "source": [
    "df_float = df_cleaned.select_dtypes(['float64'])\n",
    "df_corr = df_float.corr().abs()\n",
    "# Setting a filter for values of 1 or less than 0.5\n",
    "filter = (df_corr == 1) | (df_corr < 0.5)\n",
    "# We can filter out values by setting them to 0\n",
    "df_corr[filter] = 0\n",
    "df_corr\n",
    "\n",
    "f, ax = plt.subplots(figsize=(15, 10))\n",
    "plt.title(\"\\nPearson correlation of numeric features\\n\", size=24)\n",
    "sns.heatmap(df_corr, annot=True, annot_kws={'size': 14},\n",
    "            cmap=sns.diverging_palette(220, 20, n=11))"
   ]
  },
  {
   "cell_type": "markdown",
   "metadata": {
    "colab_type": "text",
    "id": "S_OhrC1Z7Y2K"
   },
   "source": [
    "From above correlation matrix we can see that there are strong correlations between four pairs of features.<br><br><br>\n",
    "\n",
    "\n",
    "Ploting below the pair of the strongly correlated variables. <br>This way we can gain insight into the linear correlations between the features."
   ]
  },
  {
   "cell_type": "code",
   "execution_count": 84,
   "metadata": {
    "colab": {
     "base_uri": "https://localhost:8080/",
     "height": 369
    },
    "colab_type": "code",
    "id": "TaBUumpC7arn",
    "outputId": "56addce1-155a-4dcb-f44e-cd4729f62b36"
   },
   "outputs": [
    {
     "data": {
      "image/png": "[encoded data removed]",
      "text/plain": [
       "<Figure size 402.375x360 with 1 Axes>"
      ]
     },
     "metadata": {
      "tags": []
     },
     "output_type": "display_data"
    }
   ],
   "source": [
    "sns.lmplot(x='ps_reg_01', y='ps_reg_02', data=df_cleaned.sample(frac=0.1), hue='target', palette='Set1', scatter_kws={'alpha':0.3})\n",
    "plt.show()"
   ]
  },
  {
   "cell_type": "code",
   "execution_count": 85,
   "metadata": {
    "colab": {
     "base_uri": "https://localhost:8080/",
     "height": 369
    },
    "colab_type": "code",
    "id": "tOjrtNnk7ijQ",
    "outputId": "16ab7933-8b8f-4815-9a73-babe841f5682"
   },
   "outputs": [
    {
     "data": {
      "image/png": "[encoded data removed]",
      "text/plain": [
       "<Figure size 402.375x360 with 1 Axes>"
      ]
     },
     "metadata": {
      "tags": []
     },
     "output_type": "display_data"
    }
   ],
   "source": [
    "sns.lmplot(x='ps_car_12', y='ps_car_13', data=df_cleaned.sample(frac=0.1), hue='target', palette='Set1', scatter_kws={'alpha':0.3})\n",
    "plt.show()"
   ]
  },
  {
   "cell_type": "code",
   "execution_count": 86,
   "metadata": {
    "colab": {
     "base_uri": "https://localhost:8080/",
     "height": 369
    },
    "colab_type": "code",
    "id": "uw-q5AD77mS9",
    "outputId": "e30e283d-b26c-49cf-bcd4-daa47fa7840b"
   },
   "outputs": [
    {
     "data": {
      "image/png": "[encoded data removed]",
      "text/plain": [
       "<Figure size 402.375x360 with 1 Axes>"
      ]
     },
     "metadata": {
      "tags": []
     },
     "output_type": "display_data"
    }
   ],
   "source": [
    "sns.lmplot(x='ps_car_13', y='ps_car_15', data=df_cleaned.sample(frac=0.1), hue='target', palette='Set1', scatter_kws={'alpha':0.3})\n",
    "plt.show()"
   ]
  },
  {
   "cell_type": "markdown",
   "metadata": {
    "colab_type": "text",
    "id": "LT0K8SBz7rvq"
   },
   "source": [
    "**Numerical features of ordinal type**<br>\n",
    "Now lets try to figure out the numerical features or ordinal type and try to calculate the pearson coeff of the same and will draw a plot "
   ]
  },
  {
   "cell_type": "code",
   "execution_count": 87,
   "metadata": {
    "colab": {
     "base_uri": "https://localhost:8080/",
     "height": 733
    },
    "colab_type": "code",
    "id": "6Hm4CU-G7tHL",
    "outputId": "66ce41b7-f1e3-4f8a-b409-993cfa93532f"
   },
   "outputs": [
    {
     "data": {
      "text/plain": [
       "<matplotlib.axes._subplots.AxesSubplot at 0x7f38ba80e3c8>"
      ]
     },
     "execution_count": 87,
     "metadata": {
      "tags": []
     },
     "output_type": "execute_result"
    },
    {
     "data": {
      "image/png": "[encoded data removed]",
      "text/plain": [
       "<Figure size 1080x720 with 2 Axes>"
      ]
     },
     "metadata": {
      "tags": []
     },
     "output_type": "display_data"
    }
   ],
   "source": [
    "df_ordinal = df_cleaned[num_feats_cleaned].select_dtypes(include=['int'])\n",
    "df_corr = df_ordinal.corr().abs()\n",
    "filter = (df_corr == 1) | (df_corr < 0.1)\n",
    "# We can filter out values by setting them to 0\n",
    "df_corr[filter] = 0\n",
    "df_corr\n",
    "\n",
    "f, ax = plt.subplots(figsize=(15, 10))\n",
    "plt.title(\"\\nPearson correlation of orindal features\\n\", size=24)\n",
    "sns.heatmap(df_corr, annot=True, annot_kws={'size': 14},\n",
    "            cmap=sns.diverging_palette(220, 20, n=11))"
   ]
  },
  {
   "cell_type": "markdown",
   "metadata": {
    "colab_type": "text",
    "id": "EnfZLSzB71qK"
   },
   "source": [
    "The correlations are very small, so not worthy of consideration.<br>\n",
    "\n",
    "Checking for the correlations between all numerical features and the target variables. Using the pointbiserialr tool from scipy.stats to check the correlation between the numerical values of the features and the binary values of the target. The pointbiserialr method returns the correlation and the p-value. If the p-value is more than 0.05 for any given correlation, we cannot reject a null-hypothesis and should consider eliminating the feature, as it has a negligible impact on the target variable."
   ]
  },
  {
   "cell_type": "code",
   "execution_count": 88,
   "metadata": {
    "colab": {
     "base_uri": "https://localhost:8080/",
     "height": 272
    },
    "colab_type": "code",
    "id": "gMJ28keE73Vj",
    "outputId": "3987de81-d8a7-4d20-cb4a-0d6539eecbce"
   },
   "outputs": [
    {
     "name": "stdout",
     "output_type": "stream",
     "text": [
      "PS_CAR_11  | Correlation:  -0.0012200059764350445 | P-value:  0.3465855778614059\n",
      "PS_CALC_01  | Correlation:  0.001781954651920297 | P-value:  0.1692009225910694\n",
      "PS_CALC_02  | Correlation:  0.001359688978331617 | P-value:  0.294178988732877\n",
      "PS_CALC_03  | Correlation:  0.0019069735964081537 | P-value:  0.1412294486403772\n",
      "PS_CALC_04  | Correlation:  3.272045509967862e-05 | P-value:  0.9798605212640231\n",
      "PS_CALC_05  | Correlation:  0.0007708801365321071 | P-value:  0.5520221328273487\n",
      "PS_CALC_06  | Correlation:  8.182225978046185e-05 | P-value:  0.9496663863272775\n",
      "PS_CALC_07  | Correlation:  -0.0001034769048524314 | P-value:  0.9363706750144979\n",
      "PS_CALC_08  | Correlation:  -0.0010058548384197822 | P-value:  0.4377398858088322\n",
      "PS_CALC_09  | Correlation:  0.0007189675843638668 | P-value:  0.5791119968796526\n",
      "PS_CALC_10  | Correlation:  0.001060834044479389 | P-value:  0.4131106666326\n",
      "PS_CALC_11  | Correlation:  0.00037143739489052963 | P-value:  0.7744467192571796\n",
      "PS_CALC_12  | Correlation:  -0.001132585398134695 | P-value:  0.38223377269403136\n",
      "PS_CALC_13  | Correlation:  -0.00044646453180820374 | P-value:  0.7305104420380336\n",
      "PS_CALC_14  | Correlation:  0.001362275343118574 | P-value:  0.2932615808485659\n"
     ]
    }
   ],
   "source": [
    "# check correlation between cols and target\n",
    "df_cleaned=df_cleaned.dropna()\n",
    "num_weak_corr = []\n",
    "for col in num_feats_cleaned:\n",
    "    corr, p = pointbiserialr(df_cleaned[col], df_cleaned['target'])\n",
    "    if p > .05:\n",
    "        print(col.upper(), ' | Correlation: ', corr, '| P-value: ', p)\n",
    "        num_weak_corr.append(col)"
   ]
  },
  {
   "cell_type": "markdown",
   "metadata": {
    "colab_type": "text",
    "id": "uAFo2eoz8DLP"
   },
   "source": [
    "**Categorical features**<br>\n",
    "For checking correlation between the categorical features and the target variable, we can create a crosstab table using Pandas and apply the **Chi-squared** tool to determine a p-value. Once again, if the p-value is more than 0.05, then we could reject that feature."
   ]
  },
  {
   "cell_type": "code",
   "execution_count": 89,
   "metadata": {
    "colab": {
     "base_uri": "https://localhost:8080/",
     "height": 34
    },
    "colab_type": "code",
    "id": "T8NQvC1q8Fay",
    "outputId": "41eb10de-a125-425b-fa9b-314fe527d571"
   },
   "outputs": [
    {
     "name": "stdout",
     "output_type": "stream",
     "text": [
      "PS_CAR_10_CAT  | Chi2:  0.6489747744859562  | p-value:  0.7228978253269899\n"
     ]
    }
   ],
   "source": [
    "cat_weak_corr = []\n",
    "for col in cat_feats_cleaned:\n",
    "    crosstab = pd.crosstab( df['target'], df_cleaned[col],  rownames = ['target'] , colnames =['feature'])\n",
    "    chi2, p, dof, ex = chi2_contingency(crosstab, correction=False)\n",
    "    if p > 0.05:\n",
    "        print(col.upper(), ' | Chi2: ', chi2, ' | p-value: ', p)\n",
    "        cat_weak_corr.append(col)"
   ]
  },
  {
   "cell_type": "markdown",
   "metadata": {
    "colab_type": "text",
    "id": "tU-XVlxG8M9e"
   },
   "source": [
    "It appears that all but one of the categorical features are worth keeping.<br><br>\n",
    "\n",
    "**Binary features**<br>\n",
    "Repeating above steps for the binary variables in the same way as completed above for categorical variables."
   ]
  },
  {
   "cell_type": "code",
   "execution_count": 90,
   "metadata": {
    "colab": {
     "base_uri": "https://localhost:8080/",
     "height": 170
    },
    "colab_type": "code",
    "id": "aKzdJAKa8Qhl",
    "outputId": "452ef643-605f-4c0a-fa1e-92a902e47e7a"
   },
   "outputs": [
    {
     "name": "stdout",
     "output_type": "stream",
     "text": [
      "PS_IND_10_BIN  | Chi2:  1.4908391520731943  | p-value:  0.22208630630633355\n",
      "PS_IND_11_BIN  | Chi2:  2.192129807260059  | p-value:  0.13871738717830912\n",
      "PS_IND_13_BIN  | Chi2:  3.188775952779365  | p-value:  0.07414551103659972\n",
      "PS_CALC_15_BIN  | Chi2:  0.135285302884501  | p-value:  0.7130137900732124\n",
      "PS_CALC_16_BIN  | Chi2:  0.22479812854296694  | p-value:  0.6354080551735377\n",
      "PS_CALC_17_BIN  | Chi2:  0.015449567540015549  | p-value:  0.9010806852088695\n",
      "PS_CALC_18_BIN  | Chi2:  0.17519257769002702  | p-value:  0.6755376371151457\n",
      "PS_CALC_19_BIN  | Chi2:  1.7905405627285798  | p-value:  0.1808603146226591\n",
      "PS_CALC_20_BIN  | Chi2:  0.6685114869634994  | p-value:  0.413571052217771\n"
     ]
    }
   ],
   "source": [
    "bin_weak_corr = []\n",
    "for col in bin_feats_cleaned:\n",
    "    crosstab = pd.crosstab( df['target'], df_cleaned[col],  rownames = ['target'] , colnames =['feature'])\n",
    "    chi2, p, dof, ex = chi2_contingency(crosstab)\n",
    "    if p > 0.05:\n",
    "        print(col.upper(), ' | Chi2: ', chi2, ' | p-value: ', p)\n",
    "        bin_weak_corr.append(col)"
   ]
  },
  {
   "cell_type": "markdown",
   "metadata": {
    "colab_type": "text",
    "id": "DoyBwE8u8X9J"
   },
   "source": [
    "**Using classification tools**<br>\n",
    "Another approach is to use a classication tool - such as random forest - to determine the importance of each feature. We can achieve this by fitting a model and then calling the feature_importances method."
   ]
  },
  {
   "cell_type": "code",
   "execution_count": 91,
   "metadata": {
    "colab": {
     "base_uri": "https://localhost:8080/",
     "height": 34
    },
    "colab_type": "code",
    "id": "9eCZiW--8Z8Y",
    "outputId": "1b276d6e-2582-46b3-a1c0-0fac502c62cc"
   },
   "outputs": [
    {
     "name": "stdout",
     "output_type": "stream",
     "text": [
      "--- COMPLETE ---\n"
     ]
    }
   ],
   "source": [
    "# Sets up a classifier and fits a model to all features of the dataset\n",
    "clf = RandomForestClassifier(n_estimators=150, max_depth=8, min_samples_leaf=4, max_features=0.2, n_jobs=-1, random_state=42)\n",
    "clf.fit(df_cleaned.drop(['id', 'target'],axis=1), df_cleaned['target'])\n",
    "# We need a list of features as well\n",
    "features = df_cleaned.drop(['id', 'target'],axis=1).columns.values\n",
    "print(\"--- COMPLETE ---\")"
   ]
  },
  {
   "cell_type": "markdown",
   "metadata": {
    "colab_type": "text",
    "id": "W4LkZBFSUfYv"
   },
   "source": [
    "Dumping the model .pkl file"
   ]
  },
  {
   "cell_type": "code",
   "execution_count": 92,
   "metadata": {
    "colab": {
     "base_uri": "https://localhost:8080/",
     "height": 34
    },
    "colab_type": "code",
    "id": "xk8FLovx8trI",
    "outputId": "b610efbf-aced-4998-a7d6-54497727326c"
   },
   "outputs": [
    {
     "data": {
      "text/plain": [
       "['/content/trained_models/RandomForest_clf_model.pkl']"
      ]
     },
     "execution_count": 92,
     "metadata": {
      "tags": []
     },
     "output_type": "execute_result"
    }
   ],
   "source": [
    "joblib.dump(clf, '/content/trained_models/RandomForest_clf_model.pkl')"
   ]
  },
  {
   "cell_type": "markdown",
   "metadata": {
    "colab_type": "text",
    "id": "gPFt2sEc81l2"
   },
   "source": [
    "Creating a nice horizontal bar chart for visualising the ranking of most important features.<br> **Note:** This feature will work only if belwo given command is run on termilal jupyter labextension install @jupyterlab/plotly-extension)"
   ]
  },
  {
   "cell_type": "code",
   "execution_count": 93,
   "metadata": {
    "colab": {
     "base_uri": "https://localhost:8080/",
     "height": 1000
    },
    "colab_type": "code",
    "id": "lMmqsGLo83wI",
    "outputId": "f5e615de-a8ff-42e4-ce8b-2fd23380125a"
   },
   "outputs": [
    {
     "data": {
      "image/png": "[encoded data removed]",
      "text/plain": [
       "<IPython.core.display.Image object>"
      ]
     },
     "execution_count": 93,
     "metadata": {
      "tags": []
     },
     "output_type": "execute_result"
    }
   ],
   "source": [
    "x, y = (list(x) for x in zip(*sorted(zip(clf.feature_importances_, features), \n",
    "                                                            reverse = False)))\n",
    "trace2 = go.Bar(\n",
    "    x=x ,\n",
    "    y=y,\n",
    "    marker=dict(\n",
    "        color=x,\n",
    "        colorscale = None,\n",
    "        reversescale = True\n",
    "    ),\n",
    "    name='Random Forest Feature importance',\n",
    "    orientation='h',\n",
    ")\n",
    "\n",
    "layout = dict(\n",
    "    title='Ranking of most influential features',\n",
    "     width = 900, height = 1500,\n",
    "    yaxis=dict(\n",
    "        showgrid=False,\n",
    "        showline=False,\n",
    "        showticklabels=True,\n",
    "    ))\n",
    "\n",
    "fig1 = go.Figure(data=[trace2])\n",
    "fig1['layout'].update(layout)\n",
    "py.iplot(fig1, filename='plots')\n",
    "# Due to limited access to colab terminal displaying the pre recorded image below\n",
    "import IPython\n",
    "from IPython.display import Image\n",
    "IPython.display.clear_output()\n",
    "Image(filename='/content/data/newplot.png') "
   ]
  },
  {
   "cell_type": "markdown",
   "metadata": {
    "colab_type": "text",
    "id": "7Svde2bX8_9K"
   },
   "source": [
    "**Feature Selection**<br>\n",
    "Select only the features that have the greatest impact according to the graph above, with a combination of all features types."
   ]
  },
  {
   "cell_type": "code",
   "execution_count": 0,
   "metadata": {
    "colab": {},
    "colab_type": "code",
    "id": "TCV9Sa9q9CvO"
   },
   "outputs": [],
   "source": [
    "feats_to_keep = ['ps_ind_06_bin',\n",
    "                     'ps_car_15',\n",
    "                     'ps_ind_07_bin',\n",
    "                     'ps_car_12',\n",
    "                     'ps_car_01_cat',\n",
    "                     'ps_ind_15',\n",
    "                     'ps_car_14',\n",
    "                     'ps_car_04_cat',\n",
    "                     'ps_car_07_cat',\n",
    "                     'ps_ind_03',\n",
    "                     'ps_reg_02',\n",
    "                     'ps_ind_17_bin',\n",
    "                     'ps_reg_03',\n",
    "                     'ps_ind_05_cat',\n",
    "                     'ps_car_13']"
   ]
  },
  {
   "cell_type": "code",
   "execution_count": 95,
   "metadata": {
    "colab": {
     "base_uri": "https://localhost:8080/",
     "height": 170
    },
    "colab_type": "code",
    "id": "AOxW0Wro9J_M",
    "outputId": "beb50f00-f85e-425d-bb25-0f3d8d0f8faa"
   },
   "outputs": [
    {
     "name": "stdout",
     "output_type": "stream",
     "text": [
      "--- Numerical features --- :  \n",
      " ['ps_car_15', 'ps_car_12', 'ps_ind_15', 'ps_car_14', 'ps_ind_03', 'ps_reg_02', 'ps_reg_03', 'ps_car_13'] \n",
      "\n",
      "--- Categorical features --- :  \n",
      " ['ps_car_01_cat', 'ps_car_04_cat', 'ps_car_07_cat', 'ps_ind_05_cat'] \n",
      "\n",
      "--- Binary features --- :  \n",
      " ['ps_ind_06_bin', 'ps_ind_07_bin', 'ps_ind_17_bin'] \n",
      "\n"
     ]
    }
   ],
   "source": [
    "# create new dataframe with only selected features, target and id\n",
    "df_select_feats = df_cleaned[['id', 'target'] + feats_to_keep]\n",
    "\n",
    "# separate col names into categories\n",
    "num_feats_to_keep, cat_feats_to_keep, bin_feats_to_keep = [], [], []\n",
    "\n",
    "for col in feats_to_keep:\n",
    "    if col == 'id' or col == 'target':\n",
    "        pass\n",
    "    elif '_cat' in col:\n",
    "        cat_feats_to_keep.append(col)\n",
    "    elif '_bin' in col:\n",
    "        bin_feats_to_keep.append(col)\n",
    "    else:\n",
    "        num_feats_to_keep.append(col)\n",
    "        \n",
    "print('--- Numerical features --- : ', '\\n', num_feats_to_keep, '\\n')\n",
    "print('--- Categorical features --- : ', '\\n', cat_feats_to_keep, '\\n')\n",
    "print('--- Binary features --- : ', '\\n', bin_feats_to_keep, '\\n')"
   ]
  },
  {
   "cell_type": "markdown",
   "metadata": {
    "colab_type": "text",
    "id": "PZnlcOyh9PXW"
   },
   "source": [
    "**Feature engineering**<br>\n",
    "We still need to deal with the categorical variables because they cannot read in as they are. <br>Creating a dummy variables for each feature. <br>This will greatly increase the number of features that we have, so I would like to minimize these features if we can."
   ]
  },
  {
   "cell_type": "code",
   "execution_count": 0,
   "metadata": {
    "colab": {},
    "colab_type": "code",
    "id": "hFEWpCh39RcM"
   },
   "outputs": [],
   "source": [
    "df_engineered = df_select_feats.copy()"
   ]
  },
  {
   "cell_type": "markdown",
   "metadata": {
    "colab_type": "text",
    "id": "v8JxwBEc9aKC"
   },
   "source": [
    "Checking on how many categories there are for each feature. This will help us to know which features are going to result in the most additional features after converting them to dummy variables."
   ]
  },
  {
   "cell_type": "code",
   "execution_count": 97,
   "metadata": {
    "colab": {
     "base_uri": "https://localhost:8080/",
     "height": 102
    },
    "colab_type": "code",
    "id": "IpveBKo09bDn",
    "outputId": "5b50a6c5-1936-45a2-8c47-af96e8428d09"
   },
   "outputs": [
    {
     "data": {
      "text/plain": [
       "ps_car_01_cat    13\n",
       "ps_car_04_cat    10\n",
       "ps_car_07_cat     3\n",
       "ps_ind_05_cat     8\n",
       "dtype: int64"
      ]
     },
     "execution_count": 97,
     "metadata": {
      "tags": []
     },
     "output_type": "execute_result"
    }
   ],
   "source": [
    "df_engineered[cat_feats_to_keep].nunique()"
   ]
  },
  {
   "cell_type": "code",
   "execution_count": 0,
   "metadata": {
    "colab": {},
    "colab_type": "code",
    "id": "LyCVUz979hCX"
   },
   "outputs": [],
   "source": [
    "cat_dummy_df = pd.get_dummies(df_engineered[cat_feats_to_keep].astype(str))\n",
    "# Replacing original cat cols with new dummie cols\n",
    "df_engineered = pd.concat([df_engineered, cat_dummy_df], axis=1).drop(columns=cat_feats_to_keep)"
   ]
  },
  {
   "cell_type": "code",
   "execution_count": 98,
   "metadata": {
    "colab": {
     "base_uri": "https://localhost:8080/",
     "height": 34
    },
    "colab_type": "code",
    "id": "0Kz-AYsa9k_t",
    "outputId": "28a8f395-49d4-4dc7-8bf3-2c172d17e7e7"
   },
   "outputs": [
    {
     "data": {
      "text/plain": [
       "(595212, 17)"
      ]
     },
     "execution_count": 98,
     "metadata": {
      "tags": []
     },
     "output_type": "execute_result"
    }
   ],
   "source": [
    "df_engineered.shape"
   ]
  },
  {
   "cell_type": "markdown",
   "metadata": {
    "colab_type": "text",
    "id": "FwUyHXnc9qGk"
   },
   "source": [
    "**Class Balancing**<br>\n",
    "Before going into feature scaling, we have to check out the ratio of ones to zeros in the target variable. This step is done to due to the existance of a very large class imbalance. We would not expect half of the people who are insured to lodge a claim."
   ]
  },
  {
   "cell_type": "code",
   "execution_count": 99,
   "metadata": {
    "colab": {
     "base_uri": "https://localhost:8080/",
     "height": 68
    },
    "colab_type": "code",
    "id": "W6do2Ifa9ubo",
    "outputId": "a6540dc1-529c-45d5-d01a-52abb52b10c4"
   },
   "outputs": [
    {
     "data": {
      "text/plain": [
       "0    573518\n",
       "1     21694\n",
       "Name: target, dtype: int64"
      ]
     },
     "execution_count": 99,
     "metadata": {
      "tags": []
     },
     "output_type": "execute_result"
    }
   ],
   "source": [
    "df_engineered['target'].value_counts()"
   ]
  },
  {
   "cell_type": "markdown",
   "metadata": {
    "colab_type": "text",
    "id": "HWFcpBZz923q"
   },
   "source": [
    "There are many more zeros. <br>\n",
    "<strong>Under-sampling from examples with a target of zero</strong><br>To handle this we can either over-sample (duplicate the training examples corresponding to the ones) or under-sample (remove training examples corresponding to the zeros)."
   ]
  },
  {
   "cell_type": "code",
   "execution_count": 100,
   "metadata": {
    "colab": {
     "base_uri": "https://localhost:8080/",
     "height": 34
    },
    "colab_type": "code",
    "id": "opX3sq9o94A3",
    "outputId": "1b7a8cc5-e575-47ad-ee45-bf200c5172f4"
   },
   "outputs": [
    {
     "name": "stdout",
     "output_type": "stream",
     "text": [
      "Ratio of ones to zeros:  3.7826188541597645  %\n"
     ]
    }
   ],
   "source": [
    "# number of zeros\n",
    "num_zeros = (df_engineered['target'] == 0).sum()\n",
    "# number of ones\n",
    "num_ones = (df_engineered['target'] == 1).sum()\n",
    "# difference in the number of zeros and ones\n",
    "diff = num_zeros - num_ones\n",
    "# ratios\n",
    "ones_to_zeros = num_ones / num_zeros\n",
    "zeros_to_ones = num_zeros / num_ones\n",
    "print('Ratio of ones to zeros: ', ones_to_zeros * 100, ' %')"
   ]
  },
  {
   "cell_type": "markdown",
   "metadata": {
    "colab_type": "text",
    "id": "E8wUhvnV-Bcv"
   },
   "source": [
    "Sampling from examples with a target of zero.Selecting a sample that makes up half of the original length of the dataset"
   ]
  },
  {
   "cell_type": "code",
   "execution_count": 101,
   "metadata": {
    "colab": {
     "base_uri": "https://localhost:8080/",
     "height": 224
    },
    "colab_type": "code",
    "id": "P80m21tQ-CIh",
    "outputId": "2ea1c4a5-d186-4738-f1f4-7cfb79004efe"
   },
   "outputs": [
    {
     "data": {
      "text/html": [
       "<div>\n",
       "<style scoped>\n",
       "    .dataframe tbody tr th:only-of-type {\n",
       "        vertical-align: middle;\n",
       "    }\n",
       "\n",
       "    .dataframe tbody tr th {\n",
       "        vertical-align: top;\n",
       "    }\n",
       "\n",
       "    .dataframe thead th {\n",
       "        text-align: right;\n",
       "    }\n",
       "</style>\n",
       "<table border=\"1\" class=\"dataframe\">\n",
       "  <thead>\n",
       "    <tr style=\"text-align: right;\">\n",
       "      <th></th>\n",
       "      <th>id</th>\n",
       "      <th>target</th>\n",
       "      <th>ps_ind_06_bin</th>\n",
       "      <th>ps_car_15</th>\n",
       "      <th>ps_ind_07_bin</th>\n",
       "      <th>ps_car_12</th>\n",
       "      <th>ps_car_01_cat</th>\n",
       "      <th>ps_ind_15</th>\n",
       "      <th>ps_car_14</th>\n",
       "      <th>ps_car_04_cat</th>\n",
       "      <th>ps_car_07_cat</th>\n",
       "      <th>ps_ind_03</th>\n",
       "      <th>ps_reg_02</th>\n",
       "      <th>ps_ind_17_bin</th>\n",
       "      <th>ps_reg_03</th>\n",
       "      <th>ps_ind_05_cat</th>\n",
       "      <th>ps_car_13</th>\n",
       "    </tr>\n",
       "  </thead>\n",
       "  <tbody>\n",
       "    <tr>\n",
       "      <th>0</th>\n",
       "      <td>465947</td>\n",
       "      <td>0</td>\n",
       "      <td>1</td>\n",
       "      <td>0.00000</td>\n",
       "      <td>0</td>\n",
       "      <td>0.62498</td>\n",
       "      <td>7</td>\n",
       "      <td>5</td>\n",
       "      <td>0.42249</td>\n",
       "      <td>8</td>\n",
       "      <td>1</td>\n",
       "      <td>3</td>\n",
       "      <td>0.20000</td>\n",
       "      <td>0</td>\n",
       "      <td>0.48283</td>\n",
       "      <td>0</td>\n",
       "      <td>0.69673</td>\n",
       "    </tr>\n",
       "    <tr>\n",
       "      <th>1</th>\n",
       "      <td>381915</td>\n",
       "      <td>0</td>\n",
       "      <td>0</td>\n",
       "      <td>3.74166</td>\n",
       "      <td>0</td>\n",
       "      <td>0.31623</td>\n",
       "      <td>11</td>\n",
       "      <td>6</td>\n",
       "      <td>0.28879</td>\n",
       "      <td>0</td>\n",
       "      <td>1</td>\n",
       "      <td>9</td>\n",
       "      <td>0.50000</td>\n",
       "      <td>0</td>\n",
       "      <td>0.80893</td>\n",
       "      <td>0</td>\n",
       "      <td>0.76620</td>\n",
       "    </tr>\n",
       "    <tr>\n",
       "      <th>2</th>\n",
       "      <td>1060494</td>\n",
       "      <td>0</td>\n",
       "      <td>1</td>\n",
       "      <td>3.46410</td>\n",
       "      <td>0</td>\n",
       "      <td>0.40000</td>\n",
       "      <td>10</td>\n",
       "      <td>8</td>\n",
       "      <td>0.40743</td>\n",
       "      <td>0</td>\n",
       "      <td>1</td>\n",
       "      <td>7</td>\n",
       "      <td>0.80000</td>\n",
       "      <td>1</td>\n",
       "      <td>0.97115</td>\n",
       "      <td>0</td>\n",
       "      <td>0.94069</td>\n",
       "    </tr>\n",
       "    <tr>\n",
       "      <th>3</th>\n",
       "      <td>469383</td>\n",
       "      <td>0</td>\n",
       "      <td>0</td>\n",
       "      <td>3.00000</td>\n",
       "      <td>1</td>\n",
       "      <td>0.37417</td>\n",
       "      <td>6</td>\n",
       "      <td>13</td>\n",
       "      <td>0.38210</td>\n",
       "      <td>0</td>\n",
       "      <td>1</td>\n",
       "      <td>8</td>\n",
       "      <td>0.40000</td>\n",
       "      <td>0</td>\n",
       "      <td>0.55110</td>\n",
       "      <td>0</td>\n",
       "      <td>0.87000</td>\n",
       "    </tr>\n",
       "    <tr>\n",
       "      <th>4</th>\n",
       "      <td>491496</td>\n",
       "      <td>0</td>\n",
       "      <td>1</td>\n",
       "      <td>3.74166</td>\n",
       "      <td>0</td>\n",
       "      <td>0.40000</td>\n",
       "      <td>7</td>\n",
       "      <td>12</td>\n",
       "      <td>0.30968</td>\n",
       "      <td>1</td>\n",
       "      <td>1</td>\n",
       "      <td>2</td>\n",
       "      <td>0.20000</td>\n",
       "      <td>0</td>\n",
       "      <td>0.50683</td>\n",
       "      <td>0</td>\n",
       "      <td>0.85880</td>\n",
       "    </tr>\n",
       "  </tbody>\n",
       "</table>\n",
       "</div>"
      ],
      "text/plain": [
       "        id  target  ps_ind_06_bin  ...  ps_reg_03  ps_ind_05_cat  ps_car_13\n",
       "0   465947       0              1  ...    0.48283              0    0.69673\n",
       "1   381915       0              0  ...    0.80893              0    0.76620\n",
       "2  1060494       0              1  ...    0.97115              0    0.94069\n",
       "3   469383       0              0  ...    0.55110              0    0.87000\n",
       "4   491496       0              1  ...    0.50683              0    0.85880\n",
       "\n",
       "[5 rows x 17 columns]"
      ]
     },
     "execution_count": 101,
     "metadata": {
      "tags": []
     },
     "output_type": "execute_result"
    }
   ],
   "source": [
    "df_zeros = df_engineered[df_engineered['target'] == 0]\n",
    "df_zeros_sample = df_zeros.sample(n=int(rows / 2), random_state=42)\n",
    "df_zeros_sample.reset_index(inplace=True, drop=True)\n",
    "df_zeros_sample.head()"
   ]
  },
  {
   "cell_type": "markdown",
   "metadata": {
    "colab_type": "text",
    "id": "OWMBKXzv-Pbp"
   },
   "source": [
    "<strong>Over-sampling examples with a target of one</strong><br>Duplicating examples with a target of one of duplicating all of the examples corresponding to ones."
   ]
  },
  {
   "cell_type": "code",
   "execution_count": 0,
   "metadata": {
    "colab": {},
    "colab_type": "code",
    "id": "glAAgbBZ-QH5"
   },
   "outputs": [],
   "source": [
    "df_ones = df_engineered[df_engineered['target'] == 1]\n",
    "# Adds duplicates of the ones set until half of the dataset is occupied\n",
    "df_ones_dup = pd.DataFrame()\n",
    "for i in range(int((rows / 2) / num_ones)):\n",
    "    df_ones_dup = df_ones_dup.append(df_ones)"
   ]
  },
  {
   "cell_type": "markdown",
   "metadata": {
    "colab_type": "text",
    "id": "QVJu0TkM-HeK"
   },
   "source": [
    "<strong>Combining examples into one dataset</strong><br>\n",
    "Now I want to combine the two sample sets together to form one dataset of original length, where the ones and zeros are roughly balanced 1:1."
   ]
  },
  {
   "cell_type": "code",
   "execution_count": 103,
   "metadata": {
    "colab": {
     "base_uri": "https://localhost:8080/",
     "height": 34
    },
    "colab_type": "code",
    "id": "krkb35Hl-aDQ",
    "outputId": "51e659f0-0451-4518-99de-d6f13dc3093e"
   },
   "outputs": [
    {
     "data": {
      "text/plain": [
       "(579628, 17)"
      ]
     },
     "execution_count": 103,
     "metadata": {
      "tags": []
     },
     "output_type": "execute_result"
    }
   ],
   "source": [
    "df_rebalanced = pd.concat([df_zeros_sample, df_ones_dup])\n",
    "df_rebalanced = df_rebalanced.sample(frac=1).reset_index(drop=True)\n",
    "df_rebalanced.shape"
   ]
  },
  {
   "cell_type": "markdown",
   "metadata": {
    "colab_type": "text",
    "id": "SsoJEgPC-j6Y"
   },
   "source": [
    "The number of rows is similar to what we started with.<br>\n",
    "\n",
    "**Feature scaling**<br>\n",
    "Scaling features tends to lead to a performance improvement with classification problems, so we will do it here."
   ]
  },
  {
   "cell_type": "code",
   "execution_count": 0,
   "metadata": {
    "colab": {},
    "colab_type": "code",
    "id": "8e1Enn-l-nfy"
   },
   "outputs": [],
   "source": [
    "df_scaled = df_rebalanced.copy()\n",
    "df_scaled.drop(columns=['target', 'id'], inplace=True)\n",
    "# Set up scaler and create a scaled input matrix\n",
    "scaler = MinMaxScaler()\n",
    "# MinMaxScalar outputs data as a numpy array (which is necessary for XGBoost)\n",
    "X_scaled = scaler.fit_transform(df_scaled)"
   ]
  },
  {
   "cell_type": "markdown",
   "metadata": {
    "colab_type": "text",
    "id": "6WAAma3MMjBP"
   },
   "source": [
    "<strong>Training and Evaluation</strong><br>\n",
    "Now we can split the data up into train and test sets, fit classification models to the train set and finally try to classify examples from the test set and observe the resulting accuracy and F1 scores.<br> As a first step we will use XGBoost classifier using n_estimators as 300(lower  values gives low accuracy) and will plot the feature importance"
   ]
  },
  {
   "cell_type": "code",
   "execution_count": 0,
   "metadata": {
    "colab": {
     "base_uri": "https://localhost:8080/",
     "height": 363
    },
    "colab_type": "code",
    "id": "8DZx-2s2aM5x",
    "outputId": "e6d98498-aa5d-4ad8-9e94-7e04c11ae145"
   },
   "outputs": [
    {
     "name": "stderr",
     "output_type": "stream",
     "text": [
      "/usr/local/lib/python3.6/dist-packages/ipykernel_launcher.py:6: FutureWarning:\n",
      "\n",
      "Method .as_matrix will be removed in a future version. Use .values instead.\n",
      "\n"
     ]
    },
    {
     "data": {
      "image/png": "[encoded data removed]",
      "text/plain": [
       "<Figure size 432x288 with 1 Axes>"
      ]
     },
     "metadata": {
      "tags": []
     },
     "output_type": "display_data"
    }
   ],
   "source": [
    "from sklearn.linear_model import LogisticRegression\n",
    "import scikitplot as skplt\n",
    "from xgboost import plot_importance\n",
    "X = X_scaled\n",
    "# y needs to be converted to an array\n",
    "y = df_rebalanced['target'].as_matrix()\n",
    "# split up the data and target values\n",
    "X_train, X_test, y_train, y_test = train_test_split(X, y, test_size=0.2, random_state=42)\n",
    "modelxg = XGBClassifier(n_estimators=300)\n",
    "modelxg.fit(X_train, y_train)\n",
    "plot_importance(modelxg,height=0.7, title='Feature importance', xlabel='Feature importance',max_num_features=20)\n",
    "plt.show()"
   ]
  },
  {
   "cell_type": "markdown",
   "metadata": {
    "colab_type": "text",
    "id": "k3V31gqUX9pn"
   },
   "source": [
    "Now lets try to create a confusion matrix and also will print the accuracy of XGBoost classifier algorithm.<br>\n",
    "We also do a prediction and will save the outcome as submission_xgb.csv file as an output of this project exercise."
   ]
  },
  {
   "cell_type": "code",
   "execution_count": 0,
   "metadata": {
    "colab": {
     "base_uri": "https://localhost:8080/",
     "height": 306
    },
    "colab_type": "code",
    "id": "ILbF7ZoOhmWe",
    "outputId": "e5d138e7-00a4-4fd3-c0d8-a158f6e2e969"
   },
   "outputs": [
    {
     "name": "stdout",
     "output_type": "stream",
     "text": [
      "[1 0 1 ... 1 0 0] [1 1 1 ... 1 0 0]\n",
      "\u001b[31mThe Confusion Matrix is: \u001b[0m \n",
      " [[40331 19150]\n",
      " [26186 30259]]\n",
      "\u001b[34mThe Accuracy on Test Set while using XGBoost is: \u001b[0m \u001b[34m61.0\u001b[0m \u001b[34m%\u001b[0m\n",
      "\n",
      "               precision    recall  f1-score   support\n",
      "\n",
      "           0       0.61      0.68      0.64     59481\n",
      "           1       0.61      0.54      0.57     56445\n",
      "\n",
      "    accuracy                           0.61    115926\n",
      "   macro avg       0.61      0.61      0.61    115926\n",
      "weighted avg       0.61      0.61      0.61    115926\n",
      " \n",
      "\n",
      "\u001b[31mXGBoost submission output has been saved Sucessfully to the output directory /content/output/submission_xgb.csv\u001b[0m\n"
     ]
    }
   ],
   "source": [
    "from sklearn.metrics import confusion_matrix\n",
    "from termcolor import colored\n",
    "prediction_xgb = modelxg.predict(X_test)\n",
    "print(prediction_xgb,y_test)\n",
    "\n",
    "# Making the Confusion Matrix\n",
    "cm = confusion_matrix(y_test, prediction_xgb)\n",
    "print(colored('The Confusion Matrix is: ', 'red'),'\\n', cm)\n",
    "# Calculate the accuracy on test set\n",
    "predict_accuracy_on_test_set_xgb = (cm[0,0] + cm[1,1])/(cm[0,0] + cm[1,1]+cm[1,0] + cm[0,1])\n",
    "print(colored('The Accuracy on Test Set while using XGBoost is: ', 'blue'), colored(round(predict_accuracy_on_test_set_xgb,2)*100, 'blue'),colored('%', 'blue'))\n",
    "# Classification report\n",
    "report = classification_report(y_test, prediction_xgb)\n",
    "print('\\n', report, '\\n')\n",
    "#Since the training , testing and evaluation is done on a scaled dataset df_scaled ,\n",
    "#I am unable to print the id variable as it was already being droped in earlier step.There by outputting only prediction and actual as submission\n",
    "submission_xgb = pd.DataFrame({\n",
    "        \"Actual\": y_test,\n",
    "        \"Prediction_xgb\": prediction_xgb\n",
    "    })\n",
    "submission_xgb.to_csv('/content/output/submission_xgb.csv', index=False)\n",
    "print(colored('XGBoost submission output has been saved Sucessfully to the output directory /content/output/submission_xgb.csv','red'))"
   ]
  },
  {
   "cell_type": "code",
   "execution_count": 0,
   "metadata": {
    "colab": {
     "base_uri": "https://localhost:8080/",
     "height": 34
    },
    "colab_type": "code",
    "id": "SrVlIJNOZYkj",
    "outputId": "165d1acd-7895-4f2c-94fc-551c9d628878"
   },
   "outputs": [
    {
     "data": {
      "text/plain": [
       "['/content/trained_models/xgboost_model.pkl']"
      ]
     },
     "execution_count": 53,
     "metadata": {
      "tags": []
     },
     "output_type": "execute_result"
    }
   ],
   "source": [
    "joblib.dump(modelxg, '/content/trained_models/xgboost_model.pkl')"
   ]
  },
  {
   "cell_type": "markdown",
   "metadata": {
    "colab_type": "text",
    "id": "IfecbEnYYnp1"
   },
   "source": [
    "Now let's try to run same steps using RandomForestClassifier algorithm as well to see if the accuracy increases or not."
   ]
  },
  {
   "cell_type": "code",
   "execution_count": 0,
   "metadata": {
    "colab": {
     "base_uri": "https://localhost:8080/",
     "height": 326
    },
    "colab_type": "code",
    "id": "4tgK4cWJlg5W",
    "outputId": "2d14a512-e42d-438c-9dce-cfb282c1131f"
   },
   "outputs": [
    {
     "name": "stdout",
     "output_type": "stream",
     "text": [
      "[1 1 1 ... 1 0 0] [1 1 1 ... 1 0 0]\n",
      "\u001b[31mThe Confusion Matrix is: \u001b[0m \n",
      " [[59361   120]\n",
      " [    0 56445]]\n",
      "\u001b[34mThe Accuracy on Test Set while using RandomForestClassifier is: \u001b[0m \u001b[34m100.0\u001b[0m \u001b[34m%\u001b[0m\n",
      "\n",
      "               precision    recall  f1-score   support\n",
      "\n",
      "           0       1.00      1.00      1.00     59481\n",
      "           1       1.00      1.00      1.00     56445\n",
      "\n",
      "    accuracy                           1.00    115926\n",
      "   macro avg       1.00      1.00      1.00    115926\n",
      "weighted avg       1.00      1.00      1.00    115926\n",
      " \n",
      "\n",
      "\u001b[31mRandomForestClassifier submission output has been saved Sucessfully to the output directory /content/output/submission_rand.csv\u001b[0m\n"
     ]
    }
   ],
   "source": [
    "from sklearn.ensemble import RandomForestClassifier\n",
    "model_rand = RandomForestClassifier(n_estimators=300)\n",
    "\n",
    "model_rand.fit(X_train, y_train)\n",
    "from sklearn.metrics import confusion_matrix\n",
    "from termcolor import colored\n",
    "prediction_rand = model_rand.predict(X_test)\n",
    "print(prediction_rand,y_test)\n",
    "\n",
    "# Making the Confusion Matrix\n",
    "cm = confusion_matrix(y_test, prediction_rand)\n",
    "print(colored('The Confusion Matrix is: ', 'red'),'\\n', cm)\n",
    "# Calculate the accuracy on test set\n",
    "predict_accuracy_on_test_set_rand = (cm[0,0] + cm[1,1])/(cm[0,0] + cm[1,1]+cm[1,0] + cm[0,1])\n",
    "print(colored('The Accuracy on Test Set while using RandomForestClassifier is: ', 'blue'), colored(round(predict_accuracy_on_test_set_rand,2)*100, 'blue'),colored('%', 'blue'))\n",
    "# Classification report\n",
    "report = classification_report(y_test, prediction_rand)\n",
    "print('\\n', report, '\\n')\n",
    "#Since the training , testing and evaluation is done on a scaled dataset df_scaled ,\n",
    "#I am unable to print the id variable as it was already being droped in earlier step.There by outputting only prediction and actual as submission\n",
    "submission_rand = pd.DataFrame({\n",
    "        \"Actual\": y_test,\n",
    "        \"Prediction_gradnt\": prediction_rand\n",
    "    })\n",
    "\n",
    "submission_rand.to_csv('/content/output/submission_rand.csv', index=False)\n",
    "print(colored('RandomForestClassifier submission output has been saved Sucessfully to the output directory /content/output/submission_rand.csv','red'))"
   ]
  },
  {
   "cell_type": "code",
   "execution_count": 0,
   "metadata": {
    "colab": {
     "base_uri": "https://localhost:8080/",
     "height": 34
    },
    "colab_type": "code",
    "id": "gx0av7K5Zu0w",
    "outputId": "7ce66e75-94d8-42b3-cf3e-aebabbe808f2"
   },
   "outputs": [
    {
     "data": {
      "text/plain": [
       "['/content/trained_models/RandomForest_model.pkl']"
      ]
     },
     "execution_count": 55,
     "metadata": {
      "tags": []
     },
     "output_type": "execute_result"
    }
   ],
   "source": [
    "joblib.dump(model_rand, '/content/trained_models/RandomForest_model.pkl')"
   ]
  },
  {
   "cell_type": "code",
   "execution_count": 56,
   "metadata": {
    "colab": {
     "base_uri": "https://localhost:8080/",
     "height": 272
    },
    "colab_type": "code",
    "id": "W6zj5E5TUAdk",
    "outputId": "d6feef23-18c9-4048-88e2-0af5a1b5ffd0"
   },
   "outputs": [
    {
     "name": "stdout",
     "output_type": "stream",
     "text": [
      "\u001b[31mThe Confusion Matrix is: \u001b[0m \n",
      " [[47898 14033]\n",
      " [11583 42412]]\n",
      "\u001b[34mThe Accuracy on Test Set while using MLPClassifier is: \u001b[0m \u001b[34m78.0\u001b[0m \u001b[34m%\u001b[0m\n",
      "\n",
      "               precision    recall  f1-score   support\n",
      "\n",
      "           0       0.77      0.81      0.79     59481\n",
      "           1       0.79      0.75      0.77     56445\n",
      "\n",
      "    accuracy                           0.78    115926\n",
      "   macro avg       0.78      0.78      0.78    115926\n",
      "weighted avg       0.78      0.78      0.78    115926\n",
      " \n",
      "\n"
     ]
    }
   ],
   "source": [
    "#Importing MLPClassifier\n",
    "from sklearn.neural_network import MLPClassifier\n",
    "#Initializing the MLPClassifier\n",
    "classifier = MLPClassifier(hidden_layer_sizes=(150,100,50), max_iter=300,activation = 'relu',solver='adam',random_state=42)\n",
    "#Fitting the training data to the network\n",
    "\n",
    "classifier.fit(X_train, y_train)\n",
    "#Predicting y for X_test\n",
    "prediction_mlp = classifier.predict(X_test)\n",
    "#Importing Confusion Matrix\n",
    "from sklearn.metrics import confusion_matrix\n",
    "#Comparing the predictions against the actual observations in y_test\n",
    "cm = confusion_matrix(prediction_mlp, y_test)\n",
    "\n",
    "print(colored('The Confusion Matrix is: ', 'red'),'\\n', cm)\n",
    "# Calculate the accuracy on test set\n",
    "predict_accuracy_on_test_set_mlp = (cm[0,0] + cm[1,1])/(cm[0,0] + cm[1,1]+cm[1,0] + cm[0,1])\n",
    "print(colored('The Accuracy on Test Set while using MLPClassifier is: ', 'blue'), colored(round(predict_accuracy_on_test_set_mlp,2)*100, 'blue'),colored('%', 'blue'))\n",
    "# Classification report\n",
    "report = classification_report(y_test, prediction_mlp)\n",
    "print('\\n', report, '\\n')\n"
   ]
  },
  {
   "cell_type": "code",
   "execution_count": 57,
   "metadata": {
    "colab": {
     "base_uri": "https://localhost:8080/",
     "height": 34
    },
    "colab_type": "code",
    "id": "HjKwlA8me9_B",
    "outputId": "c55a9d19-910f-4623-eb6d-15042aba3fe4"
   },
   "outputs": [
    {
     "data": {
      "text/plain": [
       "['/content/trained_models/MLPClassifier_model.pkl']"
      ]
     },
     "execution_count": 57,
     "metadata": {
      "tags": []
     },
     "output_type": "execute_result"
    }
   ],
   "source": [
    "joblib.dump(classifier, '/content/trained_models/MLPClassifier_model.pkl')"
   ]
  },
  {
   "cell_type": "markdown",
   "metadata": {
    "colab_type": "text",
    "id": "tAkqzHyz-vxH"
   },
   "source": [
    "**Training and Evaluation - Continued**<br>\n",
    "Now we can split the data up into train and test sets, fit classification models to the train set and finally try to classify examples from the test set and observe the resulting accuracy."
   ]
  },
  {
   "cell_type": "code",
   "execution_count": 58,
   "metadata": {
    "colab": {
     "base_uri": "https://localhost:8080/",
     "height": 1000
    },
    "colab_type": "code",
    "id": "smUflZ7--yH-",
    "outputId": "cabdb8d9-6861-4c57-ea69-1f281e1b8ed9"
   },
   "outputs": [
    {
     "name": "stdout",
     "output_type": "stream",
     "text": [
      "\n",
      "++++++++++++++ LogisticReg ++++++++++++++\n",
      "\n",
      "\n",
      "--- Training model using LogisticReg ---\n"
     ]
    },
    {
     "name": "stderr",
     "output_type": "stream",
     "text": [
      "/usr/local/lib/python3.6/dist-packages/sklearn/linear_model/_logistic.py:940: ConvergenceWarning:\n",
      "\n",
      "lbfgs failed to converge (status=1):\n",
      "STOP: TOTAL NO. of ITERATIONS REACHED LIMIT.\n",
      "\n",
      "Increase the number of iterations (max_iter) or scale the data as shown in:\n",
      "    https://scikit-learn.org/stable/modules/preprocessing.html\n",
      "Please also refer to the documentation for alternative solver options:\n",
      "    https://scikit-learn.org/stable/modules/linear_model.html#logistic-regression\n",
      "\n"
     ]
    },
    {
     "name": "stdout",
     "output_type": "stream",
     "text": [
      "=== DONE ===\n",
      "\n",
      "\n",
      "               precision    recall  f1-score   support\n",
      "\n",
      "           0       0.59      0.67      0.63     59481\n",
      "           1       0.59      0.50      0.54     56445\n",
      "\n",
      "    accuracy                           0.59    115926\n",
      "   macro avg       0.59      0.59      0.58    115926\n",
      "weighted avg       0.59      0.59      0.59    115926\n",
      " \n",
      "\n"
     ]
    },
    {
     "name": "stderr",
     "output_type": "stream",
     "text": [
      "/usr/local/lib/python3.6/dist-packages/sklearn/linear_model/_logistic.py:940: ConvergenceWarning:\n",
      "\n",
      "lbfgs failed to converge (status=1):\n",
      "STOP: TOTAL NO. of ITERATIONS REACHED LIMIT.\n",
      "\n",
      "Increase the number of iterations (max_iter) or scale the data as shown in:\n",
      "    https://scikit-learn.org/stable/modules/preprocessing.html\n",
      "Please also refer to the documentation for alternative solver options:\n",
      "    https://scikit-learn.org/stable/modules/linear_model.html#logistic-regression\n",
      "\n"
     ]
    },
    {
     "data": {
      "image/png": "[encoded data removed]",
      "text/plain": [
       "<Figure size 432x288 with 1 Axes>"
      ]
     },
     "metadata": {
      "tags": []
     },
     "output_type": "display_data"
    },
    {
     "name": "stdout",
     "output_type": "stream",
     "text": [
      "======================================\n",
      "\n",
      "\n",
      "++++++++++++++ Linear SVM ++++++++++++++\n",
      "\n",
      "\n",
      "--- Training model using Linear SVM ---\n"
     ]
    },
    {
     "name": "stderr",
     "output_type": "stream",
     "text": [
      "/usr/local/lib/python3.6/dist-packages/sklearn/svm/_base.py:231: ConvergenceWarning:\n",
      "\n",
      "Solver terminated early (max_iter=1000).  Consider pre-processing your data with StandardScaler or MinMaxScaler.\n",
      "\n"
     ]
    },
    {
     "name": "stdout",
     "output_type": "stream",
     "text": [
      "=== DONE ===\n",
      "\n",
      "\n",
      "               precision    recall  f1-score   support\n",
      "\n",
      "           0       0.43      0.24      0.31     59481\n",
      "           1       0.46      0.68      0.55     56445\n",
      "\n",
      "    accuracy                           0.45    115926\n",
      "   macro avg       0.45      0.46      0.43    115926\n",
      "weighted avg       0.45      0.45      0.42    115926\n",
      " \n",
      "\n"
     ]
    },
    {
     "name": "stderr",
     "output_type": "stream",
     "text": [
      "/usr/local/lib/python3.6/dist-packages/sklearn/linear_model/_logistic.py:940: ConvergenceWarning:\n",
      "\n",
      "lbfgs failed to converge (status=1):\n",
      "STOP: TOTAL NO. of ITERATIONS REACHED LIMIT.\n",
      "\n",
      "Increase the number of iterations (max_iter) or scale the data as shown in:\n",
      "    https://scikit-learn.org/stable/modules/preprocessing.html\n",
      "Please also refer to the documentation for alternative solver options:\n",
      "    https://scikit-learn.org/stable/modules/linear_model.html#logistic-regression\n",
      "\n"
     ]
    },
    {
     "data": {
      "image/png": "[encoded data removed]",
      "text/plain": [
       "<Figure size 432x288 with 1 Axes>"
      ]
     },
     "metadata": {
      "tags": []
     },
     "output_type": "display_data"
    },
    {
     "name": "stdout",
     "output_type": "stream",
     "text": [
      "======================================\n",
      "\n"
     ]
    }
   ],
   "source": [
    "from sklearn.svm import SVC\n",
    "from sklearn.neural_network import MLPClassifier\n",
    "models = []\n",
    "models.append(('LogisticReg',LogisticRegression(random_state=42)))\n",
    "models.append(('Linear SVM',SVC(kernel='linear', gamma=0.05, C=30,max_iter=1000)))\n",
    "\n",
    "for name, model in models:\n",
    "    print('\\n++++++++++++++ {} ++++++++++++++\\n'.format(name))\n",
    "\n",
    "    # Train model\n",
    "    print('\\n--- Training model using {} ---'.format(name))\n",
    "    model.fit(X_train, y_train)\n",
    "    print('=== DONE ===\\n')\n",
    "    \n",
    "    # Save model\n",
    "    joblib.dump(model, '/content/trained_models/{}_model_trained.pkl'.format(name))\n",
    "    \n",
    "    # Make predictions on the test-set\n",
    "    y_pred = model.predict(X_test)\n",
    "\n",
    "    # Classification report\n",
    "    report = classification_report(y_test, y_pred)\n",
    "    print('\\n', report, '\\n')\n",
    "\n",
    "    # Plotting cumulative gains chart (lift curve)\n",
    "    LogReg_model = LogisticRegression().fit(X=X_train,y=y_train)\n",
    "    predicted_probas = LogReg_model.predict_proba(X_test)\n",
    "    skplt.metrics.plot_cumulative_gain(y_test, predicted_probas)\n",
    "    plt.show()\n",
    "    \n",
    "    print('======================================\\n')"
   ]
  },
  {
   "cell_type": "markdown",
   "metadata": {
    "colab_type": "text",
    "id": "MN9d8W3CSyRs"
   },
   "source": [
    "# Project Report/ Synopsis and answer to the problems given in the project questionaire"
   ]
  },
  {
   "cell_type": "markdown",
   "metadata": {
    "colab_type": "text",
    "id": "q59K6btNJVf8"
   },
   "source": [
    "# Exploratory Data Analysis Questionnaire and Answers:\n",
    "1. <strong>Write at least 3 important inferences from the data above(train.csv)</strong><br>\n",
    "*   The given dataset contains 595212 rows of data with 59 columns. The target variable is in the form of 0 and 1 and all other variables are numeric and there by the dataset is suitable for Exploratory data analysis\n",
    "*   The target variable contains only 0 and 1.But this variables are not uniformly distributed and there by balancing is required on this target variable\n",
    "*   The dataset contains missing values  which needs to be adressed and also categorical features and binary features and numerical features are available in the dataset.\n",
    "\n",
    "2. <strong>Is the data balanced? Meaning are targets 0 and 1 in the right proportion?</strong>\n",
    "\n",
    "*   No. The Data is not balanced for the train.csv file given.While doing visualization of the target variable proportion and distribution as a pie chart we have observed it clearly that the value 0 is having major portion in the target variable as compared to the other value available as 1 .Inorder to overcome this issue we have applied sampling technicque and has balanced the target variable\n",
    "\n",
    "\n",
    "3. <strong>How many categorical features are there?</strong><p>\n",
    " There are mainly 14 Categorical features available in the dataset and is as given below<p>\n",
    "*  ['ps_ind_02_cat', 'ps_ind_04_cat', 'ps_ind_05_cat', 'ps_car_01_cat', 'ps_car_02_cat', 'ps_car_03_cat', 'ps_car_04_cat', 'ps_car_05_cat', 'ps_car_06_cat', 'ps_car_07_cat', 'ps_car_08_cat', 'ps_car_09_cat', 'ps_car_10_cat', 'ps_car_11_cat'] \n",
    "\n",
    "4. <strong>How many binary features are there?</strong>\n",
    "\n",
    "*   There are mainly 17 Binary features  available in the dataset and is as given below\n",
    "*  ['ps_ind_06_bin', 'ps_ind_07_bin', 'ps_ind_08_bin', 'ps_ind_09_bin', 'ps_ind_10_bin', 'ps_ind_11_bin', 'ps_ind_12_bin', 'ps_ind_13_bin', 'ps_ind_16_bin', 'ps_ind_17_bin', 'ps_ind_18_bin', 'ps_calc_15_bin', 'ps_calc_16_bin', 'ps_calc_17_bin', 'ps_calc_18_bin', 'ps_calc_19_bin', 'ps_calc_20_bin']\n",
    "\n",
    "<br>\n",
    "5. <strong>Write inferences from data on interval variables.</strong>\n",
    "<p>The numerical features consist of interval and ordinal variables.We have tried to find out how many missing values there are for each feature type and has tried to Eliminate the features where more than one half of the values are missing. What we have obssreved is that the inetrval variables have less amount of missing data and the same has been substituted with applicable mean.</p><br>\n",
    "6. <strong>Write inferences from data on ordinal variables.</strong><br>\n",
    "<p>Eventhough there are multiple ordinal values available in the given dataset the margin of missing values is very less.We have observed only one ordinal variable with more than 50 % of missing value as ps_car_03_cat.</p>\n",
    "7. <strong>Write inferences from data on binary variables.</strong> \n",
    "<p>For the binary variables no columns were returned where more than half of there values missing. we also made sure that no values at all are missing for the binary features.</p><br>\n",
    "8. <strong>Check if the target data is proportionate or not.Hint: Below than 30% for binary data is sign\n",
    "of imbalance</strong>\n",
    "<p>The target variable is  not proportionate. Initially when we tried to plot a pie chart it was evident that only 3.6 of the target variable is havinga  value of 1 and rest all values where 0s.</p>\n",
    "9. <strong>What should be the preferred way in this case to balance the data?</strong><br><p>\n",
    "For doing balancing first we have figured out the indices of the unbalanced data per target indices and has randomly selected records with target=0 to get at the desired a priori, then calculated the undersampling rate and resulting number of records with target=0.Constructed a list with remaining indices and returned undersample data frame back to train dataset.The final result was as follows</p> \n",
    "*   Rate to undersample records with target=0 :0.34043569687437886<br>\n",
    "*   Number of records with target=0 after undersampling: 195246<br>\n",
    "10. <strong>How many training records are there after achieving a balance of 12%?</strong><p>\n",
    "After balancing and data pre processing the resulted dataframe [df_rebalanced] was having the shape as (579628, 47) ahead of the original dataframe [df] of (595212, 59). That means , some rows where added , but total number of columns reduced to 47 from 59.</p>\n",
    "11. <strong>Which are the top two features in terms of missing values?</strong>\n",
    "The top two columns with missing values are as given below\n",
    "*   col1 : ps_car_03_cat    missing count : 4,11,231\n",
    "*   col2 : ps_car_05_cat    missing count : 2,66,551<br>\n",
    "12. <strong>In total, how many features have missing values?</strong>\n",
    "In total 12 columns have missing values and they are as given below\n",
    "<br>Column-----------> Missing count----->Missing ratio\n",
    "<br>ps_ind_02_cat --->  216   --->   0.000\n",
    "<br>ps_ind_04_cat --->  83  --->    0.000\n",
    "<br>ps_ind_05_cat     ---> 5809  --->  0.010<br>\n",
    "ps_car_01_cat    --->107    ---> 0.000<br>\n",
    "ps_car_03_cat    --->411231 ---> 0.691<br>\n",
    "ps_car_05_cat    --->266551 ---> 0.448<br>\n",
    "ps_car_07_cat    --->11489  ---> 0.019<br>\n",
    "ps_car_09_cat    --->569   --->  0.001<br>\n",
    "ps_reg_03 --------> 107772 --->  0.181<br>\n",
    "ps_car_11    \t---> 5    --->\t 0.000<br>\n",
    "ps_car_12    \t---> 1    --->\t 0.000<br>\n",
    "ps_car_14    --->  42620  --->  \t 0.072<br>\n",
    "13. <strong>What steps should be taken to handle the missing data?</strong><br><p>\n",
    "We have substituted the missing values with the applicable column mean. This have limited their impact on the results.</p>\n",
    "14. <strong>Which interval variables have strong correlation?</strong><p>\n",
    "ps_reg02 and ps_reg03 have highest correlation among interval variables</p>\n",
    "15. <strong>What's the level of correlation among ordinal features?</strong><br><p>\n",
    "The correlations are very small, so not worthy of consideration.</p>\n",
    "16. <strong>Implement Hot Encoding for categorical features</strong><br><p>\n",
    "We have removed most of the categoricalfeartures after feature engineering and tehre by the resulting feature list or categorical columns doesn't require one hot enncoding.</p>\n",
    "17. <strong>In nominal and interval features, which features are suitable for StandardScaler?</strong><br><p>\n",
    "Scaling features tends to lead to a performance improvement with classification problems, and hence we taken both interval and nominal features in to consideration.</p>\n",
    "18. <strong>Summarize the learnings of ED</strong><br><p>The given dataset contains 595212 rows of data with 59 columns. But the dataset had many missing values and Nan values as well as the target variable was not uniformly distributed. Majority of the missing values on ordinal and interval variable has been replaced with corresponding mean and for categorical features & binary features with missing values low person coeff has been removed. Also done balancing on the target variable as well as applied sampling and unsampling techniques for the given dataset to create a finalized dataframe and values has ben scaled using MinMaxScaler for ingesting the same in to various classification algorithms. The final data has been split using train_test_split function and has feeded to classification algorithm and prediction has been made and also the accuracy has been calculated and printed.</p>"
   ]
  },
  {
   "cell_type": "markdown",
   "metadata": {
    "colab_type": "text",
    "id": "KbloUpXK6aDu"
   },
   "source": [
    "# Modelling Questionnaire and Answers:"
   ]
  },
  {
   "cell_type": "markdown",
   "metadata": {
    "colab_type": "text",
    "id": "K5UMvNvY6TPg"
   },
   "source": [
    "1. <strong>The Simple Logistic Regression Model seems to have high accuracy.Is that what we need at\n",
    "all? What is the problem with this model?</strong><br><p>\n",
    "I have tried to fit the given data with Logistic regression model. But the accuracy was very low as compared to Random Forest Classifier/Accuracy was found to be nearly 0.59 or 0.62 for both of the target variables . Even XGBoost and Linear SVM where also having low accuracy for prediction.\n",
    "</p><br>\n",
    "2. <strong>Why do you think f1-score is 0.0?</strong><br><p>An F1-score means a statistical measure of the accuracy of a test or an individual. It is composed of two primary attributes, viz. precision and recall, both calculated as percentages and combined as harmonic mean to assign a single number, easy for comprehension.F1 score 0.0 means that the both the testing and training accuracy was poor and it indicates under fitting.\n",
    "</p><br>\n",
    "3. <strong>What is the precision and recall score for the model?</strong><br><p>I have tried Random Forest, XGBoost, Logistic regression, Linear SVM and MLP classifier for the given dataset.\n",
    "Corresponding Precision  and recall and accuracy is as given below\n",
    "<br>Algorithm: Random Forest --> Precision  : 1, Accuracy : 1, Recall : 1<br>\n",
    "Algorithm: XGBoost --> Precision  : 0.59 , Accuracy : 0.61, Recall : 0.62<br>\n",
    "Algorithm: Logistic Regression --> Precision  : 0.59, Accuracy : 0.58, Recall : 0.58<br>\n",
    "Algorithm: LinearSVC --> Precision  : 0.46, Accuracy : 0.46, Recall : 0.46<br>\n",
    "Algorithm: MLPClassifier --> Precision  : 0.79, Accuracy : 0.78, Recall : 0.79<br>\n",
    "</p><br>\n",
    "4. <strong>What is the most important inference you can draw from the result?</strong><br><p>I personally felt like the Random Forest algorithm suits best for the given dataset based on the precision and accuracy rates. XGBoost and Linear SVM as well playes an important role , but accuracy is low</p><br>\n",
    "5. <strong>What is the accuracy score and f1-score for the improved Logistic Regression model?</strong><br><p>Algorithm: Logistic Regression --> Precision  : 0.59, Accuracy : 0.58, Recall : 0.58<br></p><br>\n",
    "6. <strong>Why do you think f1-score has improved?</strong><br><p>F-measure or balanced F-score (F1 score) is the harmonic mean of precision and recall.Logistic regression model uses cumulative gain approach , which can improve the f1 score by increasing the precision and recall rate. </p><br>\n",
    "7. <strong>For model LinearSVC play with parameters – dual, max_iter and see if there is any\n",
    "improvement</strong><br><p>Tried the same , but no such improvements has been observed</p><br>\n",
    "8. <strong>SVC with Imbalance Check & Feature Optimization & only 100K Records → is there\n",
    "improvement in scores?</strong><br><p>I havn't tried this</p><br>\n",
    "9. <strong>XGBoost is one the better classifiers -- but still f1-score is very low. What could be the\n",
    "reason?</strong><br><p>I agree to the fact that the XGBoost is a better classifier. But for the given dataset the precision and recall rate was very low.As F1 score is a direct measure of these two parameters , the score has went down.</p><br>\n",
    "10. <strong>What is the increase in number of features after one-hot encoding of the data?</strong><br><p>After the encoding the number of features got almost doubled</p><br>\n",
    "11. <strong>Is there any improvement in scores after encoding?</strong><br><p>Yes. Encoding has improved the classification accuracy</p><br>\n",
    "12. <strong>If not missing a positive sample is the priority which model is best so far?</strong><br><p>RandomForest Algorithm and XGBoostalgoritms seems to be better for the classification in this case.</p><br>\n",
    "13. <strong>If not marking negative sample as positive is top priority, which model is best so far?</strong><br><p>RandomForest Algorithm is the best classification algorithm in this case.</p><br>\n",
    "14. <strong>Do you think using AdaBoost can give any significant improvement over XGBoost?</strong><br><p>Yes. Adaboost classifier have better recall and accuracy than XGBoost for the given dataset</p><br>\n",
    "15. <strong>MLPClassifier is the neural network we are trying. But how to choose the right no. of layers\n",
    "and size?</strong><br><p>Default layers is 100 for MLP classifier. We need to do trial and error method to find out the best layers and size.</p><br>\n",
    "16. <strong>At what layer size we get the best f1-score?</strong><br><p>The default number of hidden layer is 100.I have tried the MLP classifier with 50 , 100 and 150 layers and found out that the default layer of 100 gives best accuracy and f1 score.</p><br>"
   ]
  },
  {
   "cell_type": "markdown",
   "metadata": {
    "colab_type": "text",
    "id": "IJ2knYnJznNf"
   },
   "source": [
    "# Project Synopsis & Summary"
   ]
  },
  {
   "cell_type": "markdown",
   "metadata": {
    "colab_type": "text",
    "id": "lx2tR43YTIX0"
   },
   "source": [
    "# Aim of the Project\n",
    "The aim of the project is to build a Machine Learning\n",
    "Model to predict whether an owner will initiate an auto\n",
    "insurance claim in the next year<br><br>\n",
    "# Background\n",
    "The auto insurance industry is witnessing a paradigm shift. Since auto insurance company\n",
    "consists of homogenous good thereby making it difficult to differentiate product A from\n",
    "product B, also companies are fighting a price war (for insurance price). On top of that, the\n",
    "distribution channel is shifting more from traditional insurance brokers to online purchases,\n",
    "which means that the ability for companies to interact through human touchpoints is limited,\n",
    "and customers should be quoted at a reasonable price. A good price quote is one that makes\n",
    "the customer purchase the policy and helps the company to increase the profits. <br><br>\n",
    "# Problem statement\n",
    "<p>Nothing ruins the thrill of buying a brand new car more quickly than seeing your new insurance bill. \n",
    "</p><p>The sting’s even more painful when you know you’re a good driver. It doesn’t seem fair that you have to pay so much if you’ve been cautious on the road for years.<br>\n",
    "The problem statement for the project is to create a suitable model which will predict the probability that an auto insurance policy holder files a claim. You will be given a train.csv, a dataset with 600k training data and 57 features/data.</p><p>In the\n",
    "train and test data, features that belong to similar groupings are tagged as such in the feature\n",
    "names (e.g., ind, reg, car, calc)</p><br><br>\n",
    "\n",
    "# Solution / Architecture used\n",
    "<p>Various techniques used for reaching out to the final solution is summarized as given below</p>\n",
    "1. Data Pre processing and Feature engineering.<br>\n",
    "2. Categorization of features and finding out correlation coeff to do the feature selection and also data cleansing by removing or replacing missing values and NaN values<br>\n",
    "3. Encoding and sampling techniques has been applied to define a better data set for feeding in to algorithms<br>\n",
    "4. Data classification using below given algorithms\n",
    "<br><strong>Random Forest Classifier</strong><p>\n",
    "It is an ensemble tree-based learning algorithm. The Random Forest Classifier is a set of decision trees from randomly selected subset of training set. It aggregates the votes from different decision trees to decide the final class of the test object.</p><strong>XGBoostClassifier</strong><p>XGBoost is a decision-tree-based ensemble Machine Learning algorithm that uses a gradient boosting framework. In prediction problems involving unstructured data (images, text, etc.) artificial neural networks tend to outperform all other algorithms or frameworks. However, when it comes to small-to-medium structured/tabular data, decision tree based algorithms are considered best-in-class right now.\n",
    "</p>\n",
    "<br><strong>Logistic Regression</strong><p>Logistic Regression is a ‘Statistical Learning’ technique categorized in ‘Supervised’ Machine Learning (ML) methods dedicated to ‘Classification’ tasks. It has gained a tremendous reputation for last two decades especially in financial sector due to its prominent ability of detecting defaulters.\n",
    "</p>\n",
    "<br><strong>MLP Classifier</strong><p>MLP Classifier stands for Multi-layer Perceptron classifier which in the name itself connects to a Neural Network. Unlike other classification algorithms such as Support Vectors or Naive Bayes Classifier, MLPClassifier relies on an underlying Neural Network to perform the task of classification.\n",
    "</p>\n",
    "<br><strong>SVM Classifier</strong><p>In machine learning, support-vector machines (SVMs, also support-vector networks[1]) are supervised learning models with associated learning algorithms that analyze data used for classification and regression analysis. Given a set of training examples, each marked as belonging to one or the other of two categories, an SVM training algorithm builds a model that assigns new examples to one category or the other, making it a non-probabilistic binary linear classifier\n",
    "</p>\n",
    "\n",
    "# Real World applications / business use cases\n",
    "1. <strong>Conquering Market Share:</strong> Capture market share by lowering the prices of the premium\n",
    "for the customers, who are least likely to claim.\n",
    "2. <strong>Risk Management:</strong> Charge the right premium from the customer, who is likely to claim\n",
    "insurance in the coming year\n",
    "3. <strong>Smooth Processing:</strong> Reduce the complexity of pricing models. Most of the transactions\n",
    "are happening online with larger customer attributes (thanks to the internet and social\n",
    "media). Harness the power of huge data to build complex ML models\n",
    "4. <strong>Increased Profits:</strong> As per industry estimate 1% reduction in the claim can boost profit by\n",
    "10%. So, through the ML model, we can identify and deny the insurance to the driver\n",
    "who will make a claim. Thus, ensuring reduced claim outgo and increased profit. <br><br>\n",
    "\n",
    "# Summary\n",
    "In this project, we have been challenged to build a model that predicts the probability that a driver will initiate an auto insurance claim in the next year. A more accurate prediction will allow them to further tailor their prices, and hopefully make auto insurance coverage more accessible to more drivers. The dataset was really challenging as it had multiple missing and unbalanced data.Exploratory data analysis or EDA has helped us to do a proper processing of various features and to understand the data in depth and also we could be able to visualize each of the individual features in depth.We got an opportunity to apply various algorithms such as RandomForest,XGBoost,SVM,MLP,Logistic Regression etc and could be able to compare the results of each of the algorithms to reach out to a conclusion on the better algorithm to be picked up.Overall the project has given an opportunity to apply multiple deep learning skills in a single project.\n",
    "\n",
    "# Conclusion\n",
    "We have done EDA, Feature engineering, Feature selection, visualization of the features and also applied various algorithms and could be able to predict the possiblity of a given driver to be safe or not. Multiple models have been created and the best one will be picked up and will be used for further implementation.\n",
    "\n",
    "# Referances\n",
    "[1] https://www.kaggle.com/c/porto-seguro-safe-driver-prediction <br>\n",
    "[2] Xianzhi Liu, Qingquan Song - Safe Driver Prediction Base on Different Machine Learning Models <br>\n",
    "[3] Feiyang Pan,Xiang Ao - Institute of Computing Technology -A Simple and Empirically Strong\n",
    "Method for Reliable Probabilistic Predictions<br>\n",
    "[4] Muhammad Arief Fauzan, Hendri Murfi -Department of Mathematics, Universitas Indonesia - The Accuracy of XGBoost for Insurance Claim Prediction<br>\n",
    "[5] Matthew Millican & Laura Zhang - CS 229 Final Report: Predicting Insurance Claims in Brazil\n"
   ]
  }
 ],
 "metadata": {
  "accelerator": "GPU",
  "colab": {
   "collapsed_sections": [],
   "name": "IndustryGradeProject-MLModelForAutoIndustry_JissPeter.ipynb",
   "provenance": []
  },
  "kernelspec": {
   "display_name": "Python 3",
   "language": "python",
   "name": "python3"
  },
  "language_info": {
   "codemirror_mode": {
    "name": "ipython",
    "version": 3
   },
   "file_extension": ".py",
   "mimetype": "text/x-python",
   "name": "python",
   "nbconvert_exporter": "python",
   "pygments_lexer": "ipython3",
   "version": "3.7.3"
  }
 },
 "nbformat": 4,
 "nbformat_minor": 1
}
